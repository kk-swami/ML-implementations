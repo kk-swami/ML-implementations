{
 "cells": [
  {
   "cell_type": "markdown",
   "id": "0a08948f-c25d-4483-90e1-f502de5d43d6",
   "metadata": {},
   "source": [
    "# Sentence Transformers"
   ]
  },
  {
   "cell_type": "markdown",
   "id": "964131a0-7576-4a06-b1bc-a167d0cf005c",
   "metadata": {},
   "source": [
    "Based on [paper](https://arxiv.org/abs/1908.10084) and [website](https://www.sbert.net/), can be used to compute embeddings of sentences, text and images"
   ]
  },
  {
   "cell_type": "markdown",
   "id": "9da4ccc7-992b-4af9-b795-30932e944435",
   "metadata": {},
   "source": [
    "## usage"
   ]
  },
  {
   "cell_type": "markdown",
   "id": "50665a68-9256-456b-9a73-6d4c5e4278ec",
   "metadata": {},
   "source": [
    "Very simple, given a sentence transformers model, use the encode method like below"
   ]
  },
  {
   "cell_type": "code",
   "execution_count": 1,
   "id": "f71f16ea-aa34-44eb-8dab-5d189be69cd6",
   "metadata": {},
   "outputs": [
    {
     "name": "stdout",
     "output_type": "stream",
     "text": [
      "Sentence: This framework generates embeddings for each input sentence\n",
      "Embedding: [-1.37173459e-02 -4.28515263e-02 -1.56286247e-02  1.40537536e-02\n",
      "  3.95537727e-02  1.21796325e-01  2.94333640e-02 -3.17523852e-02\n",
      "  3.54959480e-02 -7.93139860e-02  1.75878443e-02 -4.04369384e-02\n",
      "  4.97259498e-02  2.54912544e-02 -7.18700439e-02  8.14968571e-02\n",
      "  1.47069583e-03  4.79627103e-02 -4.50336039e-02 -9.92175341e-02\n",
      " -2.81769466e-02  6.45046085e-02  4.44670431e-02 -4.76216935e-02\n",
      " -3.52952629e-02  4.38671745e-02 -5.28565943e-02  4.33011563e-04\n",
      "  1.01921491e-01  1.64072290e-02  3.26996557e-02 -3.45986746e-02\n",
      "  1.21339597e-02  7.94871002e-02  4.58340580e-03  1.57778189e-02\n",
      " -9.68208816e-03  2.87625697e-02 -5.05805984e-02 -1.55793950e-02\n",
      " -2.87906844e-02 -9.62282252e-03  3.15556303e-02  2.27348972e-02\n",
      "  8.71449485e-02 -3.85027491e-02 -8.84718448e-02 -8.75498727e-03\n",
      " -2.12343019e-02  2.08923742e-02 -9.02077705e-02 -5.25732450e-02\n",
      " -1.05638448e-02  2.88311020e-02 -1.61455069e-02  6.17842888e-03\n",
      " -1.23234615e-02 -1.07337013e-02  2.83353925e-02 -5.28567508e-02\n",
      " -3.58618200e-02 -5.97989149e-02 -1.09055387e-02  2.91566588e-02\n",
      "  7.97979087e-02 -3.27868591e-04  6.83501037e-03  1.32718273e-02\n",
      " -4.24619652e-02  1.87656768e-02 -9.89234298e-02  2.09049843e-02\n",
      " -8.69605467e-02 -1.50152165e-02 -4.86202240e-02  8.04414675e-02\n",
      " -3.67700052e-03 -6.65044412e-02  1.14556760e-01 -3.04228794e-02\n",
      "  2.96631809e-02 -2.80695297e-02  4.64990251e-02 -2.25513801e-02\n",
      "  8.54222998e-02  3.15446891e-02  7.34541416e-02 -2.21862067e-02\n",
      " -5.29678762e-02  1.27130104e-02 -5.27339615e-02 -1.06188789e-01\n",
      "  7.04731569e-02  2.76736729e-02 -8.05531591e-02  2.39649378e-02\n",
      " -2.65124813e-02 -2.17330642e-02  4.35275547e-02  4.84711789e-02\n",
      " -2.37067193e-02  2.85767801e-02  1.11846134e-01 -6.34936020e-02\n",
      " -1.58318263e-02 -2.26169582e-02 -1.31027587e-02 -1.62071991e-03\n",
      " -3.60928923e-02 -9.78297070e-02 -4.67729047e-02  1.76271871e-02\n",
      " -3.97492461e-02 -1.76453308e-04  3.39627527e-02 -2.09633447e-02\n",
      "  6.33663731e-03 -2.59411316e-02  8.10410231e-02  6.14393353e-02\n",
      " -5.44594601e-03  6.48276061e-02 -1.16844095e-01  2.36860868e-02\n",
      " -1.32058822e-02 -1.12476468e-01  1.90049298e-02 -1.74659474e-34\n",
      "  5.58949970e-02  1.94244906e-02  4.65438738e-02  5.18645607e-02\n",
      "  3.89390588e-02  3.40541080e-02 -4.32114378e-02  7.90637061e-02\n",
      " -9.79530066e-02 -1.27441362e-02 -2.91870628e-02  1.02051981e-02\n",
      "  1.88115537e-02  1.08942538e-01  6.63465112e-02 -5.35295196e-02\n",
      " -3.29228677e-02  4.69827242e-02  2.28882935e-02  2.74114758e-02\n",
      " -2.91982945e-02  3.12706493e-02 -2.22850777e-02 -1.02282204e-01\n",
      " -2.79117078e-02  1.13793556e-02  9.06308442e-02 -4.75414395e-02\n",
      " -1.00718938e-01 -1.23232026e-02 -7.96928555e-02 -1.44636175e-02\n",
      " -7.76400790e-02 -7.66918808e-03  9.73954704e-03  2.24204548e-02\n",
      "  7.77268112e-02 -3.17159016e-03  2.11538207e-02 -3.30393985e-02\n",
      "  9.55245178e-03 -3.73011641e-02  2.61360556e-02 -9.79088247e-03\n",
      " -6.31505251e-02  5.77435084e-03 -3.80030796e-02  1.29684685e-02\n",
      " -1.82498973e-02 -1.56283118e-02 -1.23362627e-03  5.55579476e-02\n",
      "  1.13055787e-04 -5.61256669e-02  7.40165189e-02  1.84452031e-02\n",
      " -2.66368371e-02  1.31951738e-02  7.50086978e-02 -2.46796981e-02\n",
      " -3.24006155e-02 -1.57675017e-02 -8.03516526e-03 -5.61318453e-03\n",
      "  1.05687790e-02  3.26163857e-03 -3.91989797e-02 -9.38677490e-02\n",
      "  1.14227176e-01  6.57304600e-02 -4.72633652e-02  1.45087661e-02\n",
      " -3.54490578e-02 -3.37761492e-02 -5.15506119e-02 -3.81006091e-03\n",
      " -5.15036434e-02 -5.93429543e-02 -1.69415120e-03  7.42107704e-02\n",
      " -4.20091674e-02 -7.19974935e-02  3.17249782e-02 -1.66303441e-02\n",
      "  3.96985374e-03 -6.52750582e-02  2.77391095e-02 -7.51649216e-02\n",
      "  2.27456074e-02 -3.91368195e-02  1.54316127e-02 -5.54908291e-02\n",
      "  1.23318667e-02 -2.59520877e-02  6.66423365e-02 -6.91260152e-34\n",
      "  3.31628956e-02  8.47929120e-02 -6.65584058e-02  3.33541594e-02\n",
      "  4.71610529e-03  1.35361804e-02 -5.38694225e-02  9.20694247e-02\n",
      " -2.96876654e-02  3.16219665e-02 -2.37497278e-02  1.98771022e-02\n",
      "  1.03446223e-01 -9.06947330e-02  6.30625384e-03  1.42886452e-02\n",
      "  1.19293490e-02  6.43727183e-03  4.20104265e-02  1.25344219e-02\n",
      "  3.93019803e-02  5.35691492e-02 -4.30750065e-02  6.10432588e-02\n",
      " -5.39524917e-05  6.91682398e-02  1.05520058e-02  1.22111803e-02\n",
      " -7.23184645e-02  2.50469837e-02 -5.18371165e-02 -4.36561853e-02\n",
      " -6.71818703e-02  1.34828296e-02 -7.25888535e-02  7.04166992e-03\n",
      "  6.58939630e-02  1.08994804e-02 -2.60010571e-03  5.49969189e-02\n",
      "  5.06966710e-02  3.27948183e-02 -6.68832958e-02  6.45557567e-02\n",
      " -2.52076164e-02 -2.92572007e-02 -1.16696730e-01  3.24064493e-02\n",
      "  5.85858449e-02 -3.51756439e-02 -7.15240166e-02  2.24935859e-02\n",
      " -1.00786723e-01 -4.74545024e-02 -7.61962906e-02 -5.87166362e-02\n",
      "  4.21138331e-02 -7.47213587e-02  1.98468063e-02 -3.36506357e-03\n",
      " -5.29736467e-02  2.74729617e-02  3.45737040e-02 -6.11846782e-02\n",
      "  1.06364839e-01 -9.64119881e-02 -4.55944985e-02  1.51489694e-02\n",
      " -5.13528613e-03 -6.64447322e-02  4.31721583e-02 -1.10405525e-02\n",
      " -9.80246533e-03  7.53783211e-02 -1.49570815e-02 -4.80208471e-02\n",
      "  5.80726489e-02 -2.43896637e-02 -2.23137774e-02 -4.36992347e-02\n",
      "  5.12054078e-02 -3.28625850e-02  1.08763322e-01  6.08926788e-02\n",
      "  3.30792717e-03  5.53820059e-02  8.43201131e-02  1.27087291e-02\n",
      "  3.84465344e-02  6.52325973e-02 -2.94683687e-02  5.08005284e-02\n",
      " -2.09348109e-02  1.46135688e-01  2.25561447e-02 -1.77227761e-08\n",
      " -5.02672568e-02 -2.79259344e-04 -1.00328594e-01  2.42811255e-02\n",
      " -7.54043609e-02 -3.79139818e-02  3.96050178e-02  3.10079809e-02\n",
      " -9.05700121e-03 -6.50411770e-02  4.05452810e-02  4.83390130e-02\n",
      " -4.56962399e-02  4.76004463e-03  2.64364388e-03  9.35613960e-02\n",
      " -4.02599610e-02  3.27402353e-02  1.18298214e-02  5.54344654e-02\n",
      "  1.48052216e-01  7.21189082e-02  2.76941719e-04  1.68651324e-02\n",
      "  8.34884215e-03 -8.76157451e-03 -1.33649698e-02  6.14237338e-02\n",
      "  1.57167800e-02  6.94960579e-02  1.08621670e-02  6.08018115e-02\n",
      " -5.33421412e-02 -3.47924270e-02 -3.36272120e-02  6.93906620e-02\n",
      "  1.22987805e-02 -1.45237371e-01 -2.06971867e-03 -4.61132303e-02\n",
      "  3.72748147e-03 -5.59358019e-03 -1.00659840e-01 -4.45953384e-02\n",
      "  5.40921427e-02  4.98893578e-03  1.49534550e-02 -8.26059580e-02\n",
      "  6.26630932e-02 -5.01908455e-03 -4.81857732e-02 -3.53991352e-02\n",
      "  9.03388113e-03 -2.42337845e-02  5.66267148e-02  2.51528900e-02\n",
      " -1.70709025e-02 -1.24780005e-02  3.19518745e-02  1.38420770e-02\n",
      " -1.55814895e-02  1.00178257e-01  1.23657234e-01 -4.22967039e-02]\n",
      "\n",
      "Sentence: Sentences are passed as a list of string.\n",
      "Embedding: [ 5.64524941e-02  5.50023876e-02  3.13796066e-02  3.39485109e-02\n",
      " -3.54247279e-02  8.34667385e-02  9.88801122e-02  7.27542490e-03\n",
      " -6.68662647e-03 -7.65812304e-03  7.93738216e-02  7.39652431e-04\n",
      "  1.49291903e-02 -1.51046962e-02  3.67674157e-02  4.78742979e-02\n",
      " -4.81969938e-02 -3.76052074e-02 -4.60278057e-02 -8.89816433e-02\n",
      "  1.20228142e-01  1.30663216e-01 -3.73936333e-02  2.47856858e-03\n",
      "  2.55819294e-03  7.25814924e-02 -6.80436492e-02 -5.24696037e-02\n",
      "  4.90233824e-02  2.99562961e-02 -5.84429502e-02 -2.02263314e-02\n",
      "  2.08821893e-02  9.76692140e-02  3.52390558e-02  3.91140990e-02\n",
      "  1.05668418e-02  1.56230840e-03 -1.30822835e-02  8.52907728e-03\n",
      " -4.84093465e-03 -2.03766748e-02 -2.71800626e-02  2.83307526e-02\n",
      "  3.66017893e-02  2.51276176e-02 -9.90861952e-02  1.15626082e-02\n",
      " -3.60380225e-02 -7.23783970e-02 -1.12670094e-01  1.12942513e-02\n",
      " -3.86397354e-02  4.67386022e-02 -2.88460646e-02  2.26703640e-02\n",
      " -8.52400344e-03  3.32815014e-02 -1.06581382e-03 -7.09745288e-02\n",
      " -6.31170645e-02 -5.72187006e-02 -6.16026111e-02  5.47146201e-02\n",
      "  1.18317753e-02 -4.66261357e-02  2.56959777e-02 -7.07413722e-03\n",
      " -5.73842861e-02  4.12839353e-02 -5.91503382e-02  5.89021668e-02\n",
      " -4.41697761e-02  4.65081297e-02 -3.15814093e-02  5.58312535e-02\n",
      "  5.54578491e-02 -5.96533529e-02  4.06407304e-02  4.83762100e-03\n",
      " -4.96768169e-02 -1.00944363e-01  3.40078063e-02  4.13268385e-03\n",
      " -2.93522584e-03  2.11837944e-02 -3.73962522e-02 -2.79067252e-02\n",
      " -4.61767763e-02  5.26138581e-02 -2.79735029e-02 -1.62379235e-01\n",
      "  6.61042407e-02  1.72274467e-02 -5.45107108e-03  4.74473909e-02\n",
      " -3.82236913e-02 -3.96896899e-02  1.34544531e-02  4.49653640e-02\n",
      "  4.53671021e-03  2.82978825e-02  8.36632997e-02 -1.00858444e-02\n",
      " -1.19353965e-01 -3.84624153e-02  4.82859015e-02 -9.46083814e-02\n",
      "  1.91854499e-02 -9.96518582e-02 -6.30596578e-02  3.02696209e-02\n",
      "  1.17402552e-02 -4.78372499e-02 -6.20268984e-03 -3.32850665e-02\n",
      " -4.04388783e-03  1.28307212e-02  4.05254364e-02  7.56476596e-02\n",
      "  2.92434990e-02  2.84270123e-02 -2.78938953e-02  1.66857988e-02\n",
      " -2.47961804e-02 -6.83650821e-02  2.89968830e-02 -5.39867821e-33\n",
      " -2.69014109e-03 -2.65069362e-02 -6.47932990e-04 -8.46199691e-03\n",
      " -7.35154673e-02  4.94081108e-03 -5.97842187e-02  1.03438003e-02\n",
      "  2.12903344e-03 -2.88213952e-03 -3.17076817e-02 -9.42364857e-02\n",
      "  3.03019863e-02  7.00226724e-02  4.50685546e-02  3.69439460e-02\n",
      "  1.13593526e-02  3.53026912e-02  5.50445821e-03  1.34412420e-03\n",
      "  3.46120074e-03  7.75047764e-02  5.45112565e-02 -7.92055652e-02\n",
      " -9.31696668e-02 -4.03398424e-02  3.10668927e-02 -3.83081548e-02\n",
      " -5.89443035e-02  1.93331931e-02 -2.67159808e-02 -7.91938305e-02\n",
      "  1.04183819e-04  7.70621523e-02  4.16603573e-02  8.90932679e-02\n",
      "  3.56843285e-02 -1.09153111e-02  3.71498801e-02 -2.07070056e-02\n",
      " -2.46100929e-02 -2.05025449e-02  2.62201466e-02  3.43590975e-02\n",
      "  4.39250842e-02 -8.20520427e-03 -8.40710476e-02  4.24171165e-02\n",
      "  4.87499088e-02  5.95385097e-02  2.87747569e-02  3.37638445e-02\n",
      " -4.07443158e-02 -1.66371127e-03  7.91927502e-02  3.41088325e-02\n",
      " -5.72814432e-04  1.87749900e-02 -1.36963893e-02  7.38332346e-02\n",
      "  5.74504957e-04  8.33505169e-02  5.60810752e-02 -1.13710752e-02\n",
      "  4.42611575e-02  2.69581992e-02 -4.80535850e-02 -3.15087289e-02\n",
      "  7.75226355e-02  1.81773044e-02 -8.83005485e-02 -7.85520207e-03\n",
      " -6.22243024e-02  7.19372481e-02 -2.33475305e-02  6.52483664e-03\n",
      " -9.49527137e-03 -9.88313332e-02  4.01306897e-02  3.07396706e-02\n",
      " -2.21607424e-02 -9.45910439e-02  1.02367476e-02  1.02187753e-01\n",
      " -4.12960015e-02 -3.15777697e-02  4.74751666e-02 -1.10209815e-01\n",
      "  1.69614386e-02 -3.71709615e-02 -1.03261909e-02 -4.72538471e-02\n",
      " -1.20213917e-02 -1.93255097e-02  5.79292439e-02  4.23866595e-34\n",
      "  3.92013304e-02  8.41361731e-02 -1.02946684e-01  6.92259446e-02\n",
      "  1.68821309e-02 -3.26761194e-02  9.65961069e-03  1.80899184e-02\n",
      "  2.17940044e-02  1.63189918e-02 -9.69292074e-02  3.74850631e-03\n",
      " -2.38457080e-02 -3.44055742e-02  7.11963251e-02  9.21874831e-04\n",
      " -6.23857090e-03  3.23754065e-02 -8.90363473e-04  5.01905242e-03\n",
      " -4.24537994e-02  9.89083797e-02 -4.60320637e-02  4.69704680e-02\n",
      " -1.75284501e-02 -7.02515291e-03  1.32743763e-02 -5.30151725e-02\n",
      "  2.66408571e-03  1.45819290e-02  7.43346149e-03 -3.07131782e-02\n",
      " -2.09416077e-02  8.24110731e-02 -5.15893809e-02 -2.71178633e-02\n",
      "  1.17583029e-01  7.72507070e-03 -1.89523138e-02  3.94559763e-02\n",
      "  7.17360154e-02  2.59116981e-02  2.75191851e-02  9.50544048e-03\n",
      " -3.02355234e-02 -4.07944284e-02 -1.04028471e-01 -7.97420181e-03\n",
      " -3.64455162e-03  3.29716280e-02 -2.35954504e-02 -7.50512024e-03\n",
      " -5.82234301e-02 -3.17906179e-02 -4.18049134e-02  2.17453614e-02\n",
      " -6.67292103e-02 -4.89104167e-02  4.58518416e-03 -2.66046617e-02\n",
      " -1.12597041e-01  5.11167571e-02  5.48534654e-02 -6.69857487e-02\n",
      "  1.26766279e-01 -8.59487504e-02 -5.94231412e-02 -2.92189675e-03\n",
      " -1.14875883e-02 -1.26025811e-01 -3.48276668e-03 -9.12001655e-02\n",
      " -1.22933082e-01  1.33777475e-02 -4.75775525e-02 -6.57933280e-02\n",
      " -3.39410193e-02 -3.07107493e-02 -5.22033907e-02 -2.35463735e-02\n",
      "  5.90035319e-02 -3.85757908e-02  3.19701098e-02  4.05118801e-02\n",
      "  1.67077873e-02 -3.58281136e-02  1.45688392e-02  3.20137739e-02\n",
      " -1.34843895e-02  6.07819781e-02 -8.31395481e-03 -1.08105978e-02\n",
      "  4.69410792e-02  7.66133741e-02 -4.23400216e-02 -2.11963318e-08\n",
      " -7.25292936e-02 -4.20228057e-02 -6.12374544e-02  5.24666272e-02\n",
      " -1.42363654e-02  1.18487058e-02 -1.40789207e-02 -3.67530137e-02\n",
      " -4.44977544e-02 -1.15140462e-02  5.23316897e-02  2.96651721e-02\n",
      " -4.62780185e-02 -3.70892696e-02  1.89129785e-02  2.04307027e-02\n",
      " -2.24006306e-02 -1.48562724e-02 -1.79504212e-02  4.20007855e-02\n",
      "  1.40942559e-02 -2.83492506e-02 -1.16863027e-01  1.48956673e-02\n",
      " -7.30608066e-04  5.66027835e-02 -2.68739872e-02  1.09106690e-01\n",
      "  2.94566969e-03  1.19267896e-01  1.14212446e-01  8.92973915e-02\n",
      " -1.70255136e-02 -4.99054119e-02 -2.11931076e-02  3.18421461e-02\n",
      "  7.03436136e-02 -1.02929443e-01  8.23816806e-02  2.81968694e-02\n",
      "  3.21146324e-02  3.79107744e-02 -1.09553114e-01  8.19620267e-02\n",
      "  8.73216391e-02 -5.73564097e-02 -2.01709121e-02 -5.69444336e-02\n",
      " -1.30338408e-02 -5.55684231e-02 -1.32966228e-02  8.64009466e-03\n",
      "  5.30012511e-02 -4.06846926e-02  2.71709263e-02 -2.55948678e-03\n",
      "  3.05775627e-02 -4.61865366e-02  4.68035415e-03 -3.64946462e-02\n",
      "  6.80802315e-02  6.65087476e-02  8.49152207e-02 -3.32848951e-02]\n",
      "\n",
      "Sentence: The quick brown fox jumps over the lazy dog.\n",
      "Embedding: [ 4.39335182e-02  5.89344166e-02  4.81783673e-02  7.75481462e-02\n",
      "  2.67443806e-02 -3.76295708e-02 -2.60509993e-03 -5.99430427e-02\n",
      " -2.49599875e-03  2.20728554e-02  4.80259135e-02  5.57553135e-02\n",
      " -3.89454328e-02 -2.66168155e-02  7.69336708e-03 -2.62376461e-02\n",
      " -3.64160985e-02 -3.78161632e-02  7.40781650e-02 -4.95050699e-02\n",
      " -5.85217103e-02 -6.36196807e-02  3.24350186e-02  2.20085327e-02\n",
      " -7.10637569e-02 -3.31577659e-02 -6.94104359e-02 -5.00374325e-02\n",
      "  7.46267959e-02 -1.11133806e-01 -1.23062972e-02  3.77456062e-02\n",
      " -2.80313250e-02  1.45353647e-02 -3.15585770e-02 -8.05836096e-02\n",
      "  5.83525747e-02  2.59003695e-03  3.92802320e-02  2.57695802e-02\n",
      "  4.98505868e-02 -1.75623188e-03 -4.55298014e-02  2.92607509e-02\n",
      " -1.02017224e-01  5.22287376e-02 -7.90899917e-02 -1.02857873e-02\n",
      "  9.20249801e-03  1.30732469e-02 -4.04777527e-02 -2.77925748e-02\n",
      "  1.24667203e-02  6.72833323e-02  6.81247860e-02 -7.57118128e-03\n",
      " -6.09937776e-03 -4.23777066e-02  5.17815836e-02 -1.56707279e-02\n",
      "  9.56358016e-03  4.12390493e-02  2.14958899e-02  1.04293888e-02\n",
      "  2.73349807e-02  1.87062193e-02 -2.69607753e-02 -7.00542107e-02\n",
      " -1.04700491e-01 -1.89875579e-03  1.77016947e-02 -5.74725568e-02\n",
      " -1.44223301e-02  4.70472412e-04  2.33227341e-03 -2.51920316e-02\n",
      "  4.93004210e-02 -5.09609580e-02  6.31983280e-02  1.49165038e-02\n",
      " -2.70766970e-02 -4.52875756e-02 -4.90594245e-02  3.74940373e-02\n",
      "  3.84579860e-02  1.56905851e-03  3.09922248e-02  2.01630555e-02\n",
      " -1.24363555e-02 -3.06719709e-02 -2.78819297e-02 -6.89182580e-02\n",
      " -5.13677485e-02  2.14795638e-02  1.15746707e-02  1.25411397e-03\n",
      "  1.88765693e-02 -4.42318879e-02 -4.49817516e-02 -3.41869169e-03\n",
      "  1.31131485e-02  2.00099647e-02  1.21099800e-01  2.31074672e-02\n",
      " -2.20159795e-02 -3.28846835e-02 -3.15515767e-03  1.17833304e-04\n",
      "  9.91498530e-02  1.65238865e-02 -4.69671609e-03 -1.45366807e-02\n",
      " -3.71077470e-03  9.65136141e-02  2.85908096e-02  2.13481952e-02\n",
      " -7.17644989e-02 -2.41141934e-02 -4.40940522e-02 -1.07346885e-01\n",
      "  6.79945797e-02  1.30466774e-01 -7.97029883e-02  6.79506408e-03\n",
      " -2.37511899e-02 -4.61636558e-02 -2.99650524e-02 -3.69410010e-33\n",
      "  7.30969831e-02 -2.20171716e-02 -8.61464590e-02 -7.14379773e-02\n",
      " -6.36741817e-02 -7.21863434e-02 -5.93043398e-03 -2.33641881e-02\n",
      " -2.83658281e-02  4.77434769e-02 -8.06176215e-02 -1.56477420e-03\n",
      "  1.38443662e-02 -2.86236163e-02 -3.35386619e-02 -1.13777533e-01\n",
      " -9.17631015e-03 -1.08101033e-02  3.23196314e-02  5.88380471e-02\n",
      "  3.34209576e-02  1.07987896e-01 -3.72713283e-02 -2.96770930e-02\n",
      "  5.17189950e-02 -2.25338992e-02 -6.96091130e-02 -2.14475300e-02\n",
      " -2.33410913e-02  4.82199751e-02 -3.58766355e-02 -4.68990877e-02\n",
      " -3.97873968e-02  1.10813215e-01 -1.43007413e-02 -1.18464477e-01\n",
      "  5.82915209e-02 -6.25889227e-02 -2.94041038e-02  6.03238456e-02\n",
      " -2.44411663e-03  1.60115883e-02  2.67233662e-02  2.49530431e-02\n",
      " -6.49318621e-02 -1.06801931e-02  2.81465147e-02  1.03563219e-02\n",
      " -6.63600571e-04  1.98186245e-02 -3.04288380e-02  6.28422387e-03\n",
      "  5.15268520e-02 -4.75375056e-02 -6.44421354e-02  9.55032110e-02\n",
      "  7.55858421e-02 -2.81574987e-02 -3.49966064e-02  1.01816393e-01\n",
      "  1.98732968e-02 -3.68036926e-02  2.93524098e-03 -5.00745289e-02\n",
      "  1.50932133e-01 -6.16079345e-02 -8.58812928e-02  7.13987323e-03\n",
      " -1.33065898e-02  7.80405179e-02  1.75250676e-02  4.21279296e-02\n",
      "  3.57939899e-02 -1.32950410e-01  3.56970467e-02 -2.03116536e-02\n",
      "  1.24909915e-02 -3.80355828e-02  4.91542779e-02 -1.56540517e-02\n",
      "  1.21418200e-01 -8.08644593e-02 -4.68781814e-02  4.10842933e-02\n",
      " -1.84318274e-02  6.69690669e-02  4.33597434e-03  2.27315575e-02\n",
      " -1.36428801e-02 -4.53238897e-02 -3.92829366e-02 -6.29888522e-03\n",
      "  5.29609881e-02 -3.69064435e-02  7.11676925e-02  2.33343251e-33\n",
      "  1.05231352e-01 -4.81874570e-02  6.95919394e-02  6.56976402e-02\n",
      " -4.65149246e-02  5.14492467e-02 -1.24475341e-02  3.20872068e-02\n",
      " -9.23356563e-02  5.00932559e-02 -3.28876562e-02  1.39138801e-02\n",
      " -8.70182412e-04 -4.90904041e-03  1.03946395e-01  3.21638625e-04\n",
      "  5.28110266e-02 -1.17990114e-02  2.31565423e-02  1.31768165e-02\n",
      " -5.25962748e-02  3.26702558e-02  3.08663264e-04  6.41128942e-02\n",
      "  3.88500802e-02  5.88008426e-02  8.29793215e-02 -1.88149605e-02\n",
      " -2.26377212e-02 -1.00473650e-01 -3.83752398e-02 -5.88081628e-02\n",
      "  1.82421750e-03 -4.26995195e-02  2.50194911e-02  6.40060082e-02\n",
      " -3.77482884e-02 -6.83901086e-03 -2.54604709e-03 -9.76042673e-02\n",
      "  1.88476276e-02 -8.83175875e-04  1.73611585e-02  7.10790753e-02\n",
      "  3.30393501e-02  6.93419948e-03 -5.60523197e-02  5.14634661e-02\n",
      " -4.29542400e-02  4.60077152e-02 -8.78832862e-03  3.17289643e-02\n",
      "  4.93965559e-02  2.95190215e-02 -5.05192317e-02 -5.43186925e-02\n",
      "  1.49938875e-04 -2.76614539e-02  3.46878506e-02 -2.10890714e-02\n",
      "  1.38060031e-02  2.99887061e-02  1.39744366e-02 -4.26472398e-03\n",
      " -1.50336949e-02 -8.76095518e-02 -6.85053617e-02 -4.28141505e-02\n",
      "  7.76945353e-02 -7.10285753e-02 -7.37690274e-03  2.13727243e-02\n",
      "  1.35562178e-02 -7.90464655e-02  5.47670294e-03  8.30663666e-02\n",
      "  1.14148058e-01  1.80759560e-03  8.75490904e-02 -4.16044891e-02\n",
      "  1.55416178e-02 -1.01206284e-02 -7.32439477e-03  1.07966382e-02\n",
      " -6.62816837e-02  3.98414023e-02 -1.16711542e-01  6.42993897e-02\n",
      "  4.02919725e-02 -6.54741302e-02  1.95052642e-02  8.09995607e-02\n",
      "  5.36463261e-02  7.67969638e-02 -1.34852203e-02 -1.76919048e-08\n",
      " -4.43935134e-02  9.20646265e-03 -8.79590511e-02  4.26921546e-02\n",
      "  7.31365234e-02  1.68426987e-02 -4.03262787e-02  1.85131021e-02\n",
      "  8.44172314e-02 -3.74477245e-02  3.02996188e-02  2.90641654e-02\n",
      "  6.36879131e-02  2.89750379e-02 -1.47269834e-02  1.77543201e-02\n",
      " -3.36895585e-02  1.73161812e-02  3.37875374e-02  1.76826045e-01\n",
      " -1.75533351e-02 -6.03078268e-02 -1.43394545e-02 -2.38536447e-02\n",
      " -4.45530973e-02 -2.89850179e-02 -8.96776319e-02 -1.75940723e-03\n",
      " -2.61486508e-02  5.93999540e-03 -5.18355407e-02  8.57279897e-02\n",
      " -8.18399042e-02  8.35440960e-03  4.00790423e-02  4.17764597e-02\n",
      "  1.04573570e-01 -2.86564883e-03  1.96690690e-02  5.81048988e-03\n",
      "  1.33253401e-02  4.51000817e-02 -2.17588004e-02 -1.39492862e-02\n",
      " -6.86992779e-02 -2.94113974e-03 -3.10764927e-02 -1.05854422e-01\n",
      "  6.91624135e-02 -4.24114913e-02 -4.67682295e-02 -3.64751145e-02\n",
      "  4.50400189e-02  6.09816313e-02 -6.56561330e-02 -5.45640383e-03\n",
      " -1.86227001e-02 -6.31484538e-02 -3.87437046e-02  3.46734077e-02\n",
      "  5.55458404e-02  5.21627851e-02  5.61065190e-02  1.02063887e-01]\n",
      "\n"
     ]
    }
   ],
   "source": [
    "from sentence_transformers import SentenceTransformer\n",
    "model = SentenceTransformer('all-MiniLM-L6-v2')\n",
    "\n",
    "#Our sentences we like to encode\n",
    "sentences = ['This framework generates embeddings for each input sentence',\n",
    "    'Sentences are passed as a list of string.',\n",
    "    'The quick brown fox jumps over the lazy dog.']\n",
    "\n",
    "#Sentences are encoded by calling model.encode()\n",
    "embeddings = model.encode(sentences)\n",
    "\n",
    "#Print the embeddings\n",
    "for sentence, embedding in zip(sentences, embeddings):\n",
    "    print(\"Sentence:\", sentence)\n",
    "    print(\"Embedding:\", embedding)\n",
    "    print(\"\")"
   ]
  },
  {
   "cell_type": "markdown",
   "id": "573c19a1-6ab9-4c34-925b-eaf6d080ec22",
   "metadata": {},
   "source": [
    "Notice that each sentence is embedded into a vector of dimension 384"
   ]
  },
  {
   "cell_type": "code",
   "execution_count": 4,
   "id": "187d67f0-35ad-4284-a68d-d62e1c947f87",
   "metadata": {},
   "outputs": [
    {
     "name": "stdout",
     "output_type": "stream",
     "text": [
      "Cosine-Similarity: tensor([[0.6153]])\n"
     ]
    }
   ],
   "source": [
    "from sentence_transformers import SentenceTransformer, util\n",
    "model = SentenceTransformer('all-MiniLM-L6-v2')\n",
    "\n",
    "#Sentences are encoded by calling model.encode()\n",
    "emb1 = model.encode(\"This is a red cat with a hat.\")\n",
    "emb2 = model.encode(\"Have you seen my red cat?\")\n",
    "\n",
    "cos_sim = util.cos_sim(emb1, emb2)\n",
    "print(\"Cosine-Similarity:\", cos_sim)"
   ]
  },
  {
   "cell_type": "markdown",
   "id": "5e0af6c8-d001-4d43-b1cf-6f61a777a73e",
   "metadata": {},
   "source": [
    "What's the similarity of a sentence with itself ? Should be ideally 1. Let's check"
   ]
  },
  {
   "cell_type": "code",
   "execution_count": 5,
   "id": "fdb0a720-d5bb-4b30-90f6-add3e3856f5d",
   "metadata": {},
   "outputs": [
    {
     "data": {
      "text/plain": [
       "tensor([[1.]])"
      ]
     },
     "execution_count": 5,
     "metadata": {},
     "output_type": "execute_result"
    }
   ],
   "source": [
    "util.cos_sim(emb1, emb1)"
   ]
  },
  {
   "cell_type": "markdown",
   "id": "e3c132d9-fb2f-4299-a2c0-6efbc070b141",
   "metadata": {},
   "source": [
    "Works !!"
   ]
  },
  {
   "cell_type": "markdown",
   "id": "6b2635b2-a4da-4a03-a73a-ec8d0ec6cd5a",
   "metadata": {},
   "source": [
    "What's the similarity of a sentence and its negation ??\n",
    "Quite high right ? Should it be this way ?"
   ]
  },
  {
   "cell_type": "code",
   "execution_count": 8,
   "id": "e95f0ed1-dadc-4ff3-993b-8fb8adefc60a",
   "metadata": {},
   "outputs": [
    {
     "name": "stdout",
     "output_type": "stream",
     "text": [
      "tensor([[0.7843]])\n",
      "tensor([[0.6120]])\n"
     ]
    }
   ],
   "source": [
    "emb1 = model.encode(\"He went to school\")\n",
    "emb2 = model.encode(\"He did not go to school\")\n",
    "emb3 = model.encode(\"She did not go to school\")\n",
    "\n",
    "cos_sim1 = util.cos_sim(emb1, emb2)\n",
    "print(cos_sim1)\n",
    "\n",
    "cos_sim2 = util.cos_sim(emb1, emb3)\n",
    "print(cos_sim2)"
   ]
  },
  {
   "cell_type": "markdown",
   "id": "167b9352-8f42-435c-b4a8-7ac823fec01f",
   "metadata": {},
   "source": [
    "Note that model.encode takes a list of sentences instead of 1 sentence, and util.cos_sim can also take a list"
   ]
  },
  {
   "cell_type": "markdown",
   "id": "c007c971-a68b-4d3f-af19-fe2afa095bd3",
   "metadata": {},
   "source": [
    "## Usage 1 : Compute sentence similarities"
   ]
  },
  {
   "cell_type": "code",
   "execution_count": 9,
   "id": "e365d7e1-9367-44f0-b882-60cdf091574e",
   "metadata": {},
   "outputs": [],
   "source": [
    "sentences = ['A man is eating food.',\n",
    "          'A man is eating a piece of bread.',\n",
    "          'The girl is carrying a baby.',\n",
    "          'A man is riding a horse.',\n",
    "          'A woman is playing violin.',\n",
    "          'Two men pushed carts through the woods.',\n",
    "          'A man is riding a white horse on an enclosed ground.',\n",
    "          'A monkey is playing drums.',\n",
    "          'Someone in a gorilla costume is playing a set of drums.'\n",
    "          ]\n",
    "\n",
    "#Encode all sentences\n",
    "embeddings = model.encode(sentences)\n",
    "\n",
    "#Compute cosine similarity between all pairs\n",
    "cos_sim = util.cos_sim(embeddings, embeddings)\n",
    "\n",
    "#Add all pairs to a list with their cosine similarity score\n",
    "all_sentence_combinations = []\n",
    "for i in range(len(cos_sim)-1):\n",
    "    for j in range(i+1, len(cos_sim)):\n",
    "        all_sentence_combinations.append([cos_sim[i][j], i, j])"
   ]
  },
  {
   "cell_type": "code",
   "execution_count": 13,
   "id": "4f65644c-9291-41ae-985f-085c690975b7",
   "metadata": {},
   "outputs": [
    {
     "name": "stdout",
     "output_type": "stream",
     "text": [
      "Top-5 most similar pairs:\n",
      "A man is eating food. \t A man is eating a piece of bread. \t 0.7553\n",
      "A man is riding a horse. \t A man is riding a white horse on an enclosed ground. \t 0.7369\n",
      "A monkey is playing drums. \t Someone in a gorilla costume is playing a set of drums. \t 0.6433\n",
      "A woman is playing violin. \t Someone in a gorilla costume is playing a set of drums. \t 0.2564\n",
      "A man is eating food. \t A man is riding a horse. \t 0.2474\n"
     ]
    }
   ],
   "source": [
    "\n",
    "#Sort list by the highest cosine similarity score\n",
    "all_sentence_combinations = sorted(all_sentence_combinations, key=lambda x: x[0], reverse=True)\n",
    "\n",
    "print(\"Top-5 most similar pairs:\")\n",
    "for score, i, j in all_sentence_combinations[0:5]:\n",
    "    print(\"{} \\t {} \\t {:.4f}\".format(sentences[i], sentences[j], cos_sim[i][j]))"
   ]
  },
  {
   "cell_type": "markdown",
   "id": "5679b3e6-a52f-4c9b-ab2b-6f2177235624",
   "metadata": {},
   "source": [
    "Note though that this approach is O(n ^ 2) complexity. Using paraphrase mining in sentence transformers is a lot more efficient\n",
    "\n",
    "https://www.sbert.net/examples/applications/paraphrase-mining/README.html\n",
    "\n",
    "How ?? \n",
    "\n",
    "Instead of computing all pairwise cosine scores and ranking all possible combinations, it does something smarter\n",
    "Does two kinds of chunking - query chunk size and corpus chunk size\n",
    "\n",
    "If query chunk size is set to 1K , for example. instead of taking 1 query at a time and searching against the entire corpus, it takes 1K queries and searches against an entire corpus\n",
    "\n",
    "The next step is corpus chunking - instead of searching against the entire corpus 1 by 1, the corpus is chunked, and the entire chunk is search against in one shot \n",
    "\n",
    "Example : If we pass a list of 20k sentences, we will chunk it to 20x1000 sentences (so 20 queries) , and each of the query chunks (let's say chunk 1-1000) is compared first against sentences 0-10k and then 10k-20k. (the corpus chunk)\n",
    "\n",
    "So the number of comparisons reduces from 20000 * 20000 to 20 * 2 (query 1 against corpus chunk 1 and 2, query 2 against corpus chunk 1 and 2, .. query 20 against corpus chunk 1 and 2\n",
    "\n",
    "(huh ? Ok, but effectively, isn't it the same no of comparisons ? )\n",
    "\n",
    "The second efficiency step is not keeping all the scores for ranking, but for each query and each sentence within each query, storing only the top K hits\n",
    "\n"
   ]
  },
  {
   "cell_type": "code",
   "execution_count": 14,
   "id": "2a1b37b1-63f7-48de-b20c-ef99cd4aec1f",
   "metadata": {},
   "outputs": [
    {
     "name": "stdout",
     "output_type": "stream",
     "text": [
      "The new movie is awesome \t\t The new movie is so great \t\t Score: 0.8939\n",
      "The cat sits outside \t\t The cat plays in the garden \t\t Score: 0.6788\n",
      "I love pasta \t\t Do you like pizza? \t\t Score: 0.5096\n",
      "I love pasta \t\t The new movie is so great \t\t Score: 0.2560\n",
      "I love pasta \t\t The new movie is awesome \t\t Score: 0.2440\n",
      "A man is playing guitar \t\t The cat plays in the garden \t\t Score: 0.2105\n",
      "The new movie is awesome \t\t Do you like pizza? \t\t Score: 0.1969\n",
      "The new movie is so great \t\t Do you like pizza? \t\t Score: 0.1692\n",
      "The cat sits outside \t\t A woman watches TV \t\t Score: 0.1310\n",
      "The cat plays in the garden \t\t Do you like pizza? \t\t Score: 0.0900\n"
     ]
    }
   ],
   "source": [
    "sentences = ['The cat sits outside',\n",
    "             'A man is playing guitar',\n",
    "             'I love pasta',\n",
    "             'The new movie is awesome',\n",
    "             'The cat plays in the garden',\n",
    "             'A woman watches TV',\n",
    "             'The new movie is so great',\n",
    "             'Do you like pizza?']\n",
    "\n",
    "paraphrases = util.paraphrase_mining(model, sentences)\n",
    "\n",
    "for paraphrase in paraphrases[0:10]:\n",
    "    score, i, j = paraphrase\n",
    "    print(\"{} \\t\\t {} \\t\\t Score: {:.4f}\".format(sentences[i], sentences[j], score))"
   ]
  },
  {
   "cell_type": "markdown",
   "id": "dbca4c9d-a8a7-4320-8468-54217bdec778",
   "metadata": {},
   "source": [
    "However, note that this is where methods like FAISS and ANNOY are supposed to be even more efficient !!"
   ]
  },
  {
   "cell_type": "markdown",
   "id": "76aab296-44da-4ef0-bca6-7bef1e0b8fc3",
   "metadata": {},
   "source": []
  },
  {
   "cell_type": "markdown",
   "id": "dd455aea-2136-4ac0-bc8a-7b7d13fdffad",
   "metadata": {},
   "source": [
    "## Usage 2 : Semantic Search"
   ]
  },
  {
   "cell_type": "markdown",
   "id": "eb1af5bf-00d4-4323-8f59-5b1cae771433",
   "metadata": {},
   "source": [
    "Here, the problem statement is \n",
    "\n",
    "Have a query, and retrieve all entries in the dataset which are closest to the query (https://www.sbert.net/examples/applications/semantic-search/README.html)\n",
    "\n",
    "Typically, all your backend data is passed through a sentence transformer to get an embedding and these embeddings are stored in a vector database (pinecone, weaviate. Now Elastic search also has support for vector databases)\n",
    "\n",
    "\"Starting with version 7.3, ElasticSearch introduced the possibility to index dense vectors and to use to for document scoring. Hence, we can use ElasticSearch to index embeddings along the documents and we can use the query embeddings to retrieve relevant entries.\n",
    "\n",
    "An advantage of ElasticSearch is that it is easy to add new documents to an index and that we can store also other data along with our vectors. A disadvantage is the slow performance, as it compares the query embeddings with all stored embeddings. This has a linear run-time and might be too slow for large (>100k) corpora.\"\n",
    "\n",
    "\n",
    "\n",
    "\n",
    "When a query comes in, the query is passed through the sentence transformer to get an embedding, and compared with all the backend embeddings stored in the DB. The closest K from a distance perspective (cosine similarity) is surfaced to the user\n",
    "\n",
    "This is a very expensive operation, if your backend has ~O(millions or billions of embeddings) as for a single query, you have to search through every single embedding in your vector database to find closest hits. O(N)\n",
    "\n",
    "Faster algorithms include ANNOY from Spotify, FAISS from facebook, hnswlib\n",
    "\n",
    "For more complex semantic search, you would use a retrieve + rerank implementation which we will go into"
   ]
  },
  {
   "cell_type": "markdown",
   "id": "146c7364-27e6-475b-be75-d07f62bc049b",
   "metadata": {},
   "source": [
    "Here's a simple O( N * M) (no of queries * no of backend searches) for semantic search"
   ]
  },
  {
   "cell_type": "code",
   "execution_count": 15,
   "id": "3be8ff02-5c06-45fe-8d1c-8005a490ffba",
   "metadata": {},
   "outputs": [],
   "source": [
    "from sentence_transformers import SentenceTransformer, util\n",
    "import torch\n",
    "\n",
    "embedder = SentenceTransformer('all-MiniLM-L6-v2')\n",
    "\n",
    "# Corpus with example sentences\n",
    "corpus = ['A man is eating food.',\n",
    "          'A man is eating a piece of bread.',\n",
    "          'The girl is carrying a baby.',\n",
    "          'A man is riding a horse.',\n",
    "          'A woman is playing violin.',\n",
    "          'Two men pushed carts through the woods.',\n",
    "          'A man is riding a white horse on an enclosed ground.',\n",
    "          'A monkey is playing drums.',\n",
    "          'A cheetah is running behind its prey.'\n",
    "          ]\n",
    "corpus_embeddings = embedder.encode(corpus, convert_to_tensor=True)\n",
    "\n",
    "# Query sentences:\n",
    "queries = ['A man is eating pasta.', 'Someone in a gorilla costume is playing a set of drums.', 'A cheetah chases prey on across a field.']"
   ]
  },
  {
   "cell_type": "code",
   "execution_count": 17,
   "id": "c07098dd-3a93-45b5-9d06-d0937f86488b",
   "metadata": {},
   "outputs": [
    {
     "data": {
      "text/plain": [
       "torch.Size([9, 384])"
      ]
     },
     "execution_count": 17,
     "metadata": {},
     "output_type": "execute_result"
    }
   ],
   "source": [
    "corpus_embeddings.shape"
   ]
  },
  {
   "cell_type": "code",
   "execution_count": 34,
   "id": "bedf1bd4-f23f-4d14-b253-dd1dc0f1a666",
   "metadata": {},
   "outputs": [
    {
     "name": "stdout",
     "output_type": "stream",
     "text": [
      "**************\n",
      "A man is eating pasta.\n",
      "A man is eating food. (Score: 0.7035)\n",
      "A man is eating a piece of bread. (Score: 0.5272)\n",
      "A man is riding a horse. (Score: 0.1889)\n",
      "A man is riding a white horse on an enclosed ground. (Score: 0.1047)\n",
      "A cheetah is running behind its prey. (Score: 0.0980)\n",
      "**************\n",
      "Someone in a gorilla costume is playing a set of drums.\n",
      "A monkey is playing drums. (Score: 0.6433)\n",
      "A woman is playing violin. (Score: 0.2564)\n",
      "A man is riding a horse. (Score: 0.1389)\n",
      "A man is riding a white horse on an enclosed ground. (Score: 0.1191)\n",
      "A cheetah is running behind its prey. (Score: 0.1080)\n",
      "**************\n",
      "A cheetah chases prey on across a field.\n",
      "A cheetah is running behind its prey. (Score: 0.8253)\n",
      "A man is eating food. (Score: 0.1399)\n",
      "A monkey is playing drums. (Score: 0.1292)\n",
      "A man is riding a white horse on an enclosed ground. (Score: 0.1097)\n",
      "A man is riding a horse. (Score: 0.0650)\n"
     ]
    }
   ],
   "source": [
    "top_k = min(5, len(corpus))\n",
    "for query in queries:\n",
    "    print(\"**************\")\n",
    "    print(query)\n",
    "    query_embedding = embedder.encode(query, convert_to_tensor=True)\n",
    "    cos_scores = util.cos_sim(query_embedding, corpus_embeddings)\n",
    "    top_results = torch.topk(cos_scores[0], k=top_k)\n",
    "    for score, idx in zip(top_results[0], top_results[1]):\n",
    "        print(corpus[idx], \"(Score: {:.4f})\".format(score))"
   ]
  },
  {
   "cell_type": "code",
   "execution_count": null,
   "id": "be6474ba-7ca0-471d-a10f-f28555850c6e",
   "metadata": {},
   "outputs": [],
   "source": [
    "## An alternative implementation using utils.semantic_search"
   ]
  },
  {
   "cell_type": "code",
   "execution_count": 36,
   "id": "3b14b383-77a0-4113-991a-e4752c5bd409",
   "metadata": {},
   "outputs": [
    {
     "name": "stdout",
     "output_type": "stream",
     "text": [
      "**************\n",
      "A man is eating pasta.\n",
      "A man is eating food. (Score: 0.7035)\n",
      "A man is eating a piece of bread. (Score: 0.5272)\n",
      "A man is riding a horse. (Score: 0.1889)\n",
      "A man is riding a white horse on an enclosed ground. (Score: 0.1047)\n",
      "A cheetah is running behind its prey. (Score: 0.0980)\n",
      "**************\n",
      "Someone in a gorilla costume is playing a set of drums.\n",
      "A monkey is playing drums. (Score: 0.6433)\n",
      "A woman is playing violin. (Score: 0.2564)\n",
      "A man is riding a horse. (Score: 0.1389)\n",
      "A man is riding a white horse on an enclosed ground. (Score: 0.1191)\n",
      "A cheetah is running behind its prey. (Score: 0.1080)\n",
      "**************\n",
      "A cheetah chases prey on across a field.\n",
      "A cheetah is running behind its prey. (Score: 0.8253)\n",
      "A man is eating food. (Score: 0.1399)\n",
      "A monkey is playing drums. (Score: 0.1292)\n",
      "A man is riding a white horse on an enclosed ground. (Score: 0.1097)\n",
      "A man is riding a horse. (Score: 0.0650)\n"
     ]
    }
   ],
   "source": [
    "\n",
    "top_k = min(5, len(corpus))\n",
    "for query in queries:\n",
    "    print(\"**************\")\n",
    "    print(query)\n",
    "    query_embedding = embedder.encode(query, convert_to_tensor=True)\n",
    "    hits = util.semantic_search(query_embedding, corpus_embeddings, top_k=5)\n",
    "    hits = hits[0]\n",
    "    for hit in hits:\n",
    "        print(corpus[hit['corpus_id']], \"(Score: {:.4f})\".format(hit['score']))"
   ]
  },
  {
   "cell_type": "markdown",
   "id": "401ae5ac-c559-4e90-a934-1d057aa41383",
   "metadata": {},
   "source": [
    "## Usage 3 : Retrieval and rerank"
   ]
  },
  {
   "attachments": {
    "609c7377-5c2b-4467-99a1-c3d197ed45ba.png": {
     "image/png": "[encoded data removed]"
    }
   },
   "cell_type": "markdown",
   "id": "885ea546-b920-4b0c-8e1c-03b851164ce7",
   "metadata": {},
   "source": [
    "A two step process - the first step is identical to the semantic search above (however, simple lexical word based seach can also be used, or a combination of both for retrieval). \n",
    "\n",
    "The second step would be to rerank the obtained hits to improve accuracy\n",
    "\n",
    "Step 1 is exactly as above - given a query, you get top K retrieval hits\n",
    "\n",
    "However, step 1 can get irrelevant documents. So given the top K retrieval results, this can prune results\n",
    "\n",
    "Here, a simple BERT classifier is used\n",
    "For each of the top K hits from the retrieval step, the query and hit is passed through a BERT classification module to get a 1/0 output probability\n",
    "\n",
    "![image.png](attachment:609c7377-5c2b-4467-99a1-c3d197ed45ba.png)\n",
    "\n",
    "These output probabilities are then ranked to get the top hits\n",
    "\n",
    "Since the more expensive second step (ranking) is performed for only 100s of documents retrieved by the retrieval step as opposed to the millions before retrieval , it is much faster"
   ]
  },
  {
   "cell_type": "markdown",
   "id": "86e77bc1-2f40-4961-923a-1e152d7b6df6",
   "metadata": {},
   "source": [
    "## References"
   ]
  },
  {
   "cell_type": "markdown",
   "id": "bbbab6bf-e67f-4efc-9084-59d6e4d2bda6",
   "metadata": {},
   "source": [
    "1) https://arxiv.org/abs/1908.10084\n",
    "2) https://www.sbert.net/"
   ]
  }
 ],
 "metadata": {
  "kernelspec": {
   "display_name": "Python 3 (ipykernel)",
   "language": "python",
   "name": "python3"
  },
  "language_info": {
   "codemirror_mode": {
    "name": "ipython",
    "version": 3
   },
   "file_extension": ".py",
   "mimetype": "text/x-python",
   "name": "python",
   "nbconvert_exporter": "python",
   "pygments_lexer": "ipython3",
   "version": "3.9.13"
  }
 },
 "nbformat": 4,
 "nbformat_minor": 5
}
