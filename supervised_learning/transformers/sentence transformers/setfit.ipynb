{
 "cells": [
  {
   "cell_type": "markdown",
   "id": "82cec33f-b2e7-4ce6-9066-61aad63dae93",
   "metadata": {},
   "source": [
    "# SetFit"
   ]
  },
  {
   "cell_type": "markdown",
   "id": "afbdca8d-c383-47c9-98e5-f4c53ff5524c",
   "metadata": {},
   "source": [
    "## Introduction"
   ]
  },
  {
   "cell_type": "markdown",
   "id": "682a7f12-17dc-4646-bfc1-0895424bd2fe",
   "metadata": {},
   "source": [
    "Setfit is a way of finetuning sentence transformers in a few shot way for classification tasks\n",
    "https://huggingface.co/blog/setfit\n",
    "\n",
    "\n",
    "It typically needs very few examples compared to traditional BERT task specific finetuning . For example, with only 8 labeled examples per class on the Customer Reviews (CR) sentiment dataset, SetFit is competitive with fine-tuning RoBERTa Large on the full training set of 3k examples\n",
    "\n",
    "Its features are \n",
    "\n",
    "1) Doesn't need handcrafted prompts even though its few shot. Directly takes a small number of classification examples (8-16 per class) to finetune sentence transformers\n",
    "2) Fast to train\n",
    "3) Native multilingual support\n"
   ]
  },
  {
   "cell_type": "markdown",
   "id": "98f01ffa-f9ef-46ef-9990-fcf9642163db",
   "metadata": {},
   "source": [
    "## Details"
   ]
  },
  {
   "cell_type": "code",
   "execution_count": null,
   "id": "326c1fd7-6be6-4432-9411-414d50661827",
   "metadata": {},
   "outputs": [],
   "source": []
  },
  {
   "cell_type": "markdown",
   "id": "f7ffbb4f-d2b1-4aeb-be77-b81e29e332b4",
   "metadata": {},
   "source": [
    "Its a 2 step training process\n",
    "\n",
    "1) Finetunes sentence transformers taking a small number of labeled examples as an input (This is usually done using text similarity pairs or triplets , as discussed in the sentence transformers notebook. How is this triplet or pairs created from the labeled examples ? Positive and negative pairs are created by in class and out of class sampling respectively.\n",
    "2) Once the sentence transformers are finetuned in the previous step, a simple classification head is added on those encoded embeddings, and trained\n",
    "\n",
    "(WHY NOT JOINT TRAINING ?? )\n",
    "\n",
    "During inference, the unseen sample passes through the finetuned sentence transformer from step A, gets an embedding, and this embedding is passed through the classification layer on second step to get the final label"
   ]
  },
  {
   "cell_type": "markdown",
   "id": "6228d406-7f82-4e9f-8910-bc3e84e2fbd0",
   "metadata": {},
   "source": [
    "## Code"
   ]
  },
  {
   "cell_type": "code",
   "execution_count": 5,
   "id": "86e6f287-6833-4e2b-ab23-07c90bc59e92",
   "metadata": {},
   "outputs": [
    {
     "name": "stdout",
     "output_type": "stream",
     "text": [
      "Collecting setfit\n",
      "  Using cached setfit-0.7.0-py3-none-any.whl (45 kB)\n",
      "Collecting evaluate>=0.3.0\n",
      "  Using cached evaluate-0.4.0-py3-none-any.whl (81 kB)\n",
      "Requirement already satisfied: sentence-transformers>=2.2.1 in c:\\users\\kkiit\\appdata\\roaming\\python\\python39\\site-packages (from setfit) (2.2.2)\n",
      "Requirement already satisfied: datasets>=2.3.0 in c:\\users\\kkiit\\anaconda3\\lib\\site-packages (from setfit) (2.14.5)\n",
      "Requirement already satisfied: pyyaml>=5.1 in c:\\users\\kkiit\\anaconda3\\lib\\site-packages (from datasets>=2.3.0->setfit) (6.0)\n",
      "Requirement already satisfied: dill<0.3.8,>=0.3.0 in c:\\users\\kkiit\\anaconda3\\lib\\site-packages (from datasets>=2.3.0->setfit) (0.3.7)\n",
      "Requirement already satisfied: numpy>=1.17 in c:\\users\\kkiit\\anaconda3\\lib\\site-packages (from datasets>=2.3.0->setfit) (1.24.4)\n",
      "Requirement already satisfied: pandas in c:\\users\\kkiit\\appdata\\roaming\\python\\python39\\site-packages (from datasets>=2.3.0->setfit) (2.0.3)\n",
      "Requirement already satisfied: requests>=2.19.0 in c:\\users\\kkiit\\anaconda3\\lib\\site-packages (from datasets>=2.3.0->setfit) (2.28.1)\n",
      "Requirement already satisfied: aiohttp in c:\\users\\kkiit\\anaconda3\\lib\\site-packages (from datasets>=2.3.0->setfit) (3.8.5)\n",
      "Requirement already satisfied: tqdm>=4.62.1 in c:\\users\\kkiit\\anaconda3\\lib\\site-packages (from datasets>=2.3.0->setfit) (4.64.1)\n",
      "Requirement already satisfied: packaging in c:\\users\\kkiit\\anaconda3\\lib\\site-packages (from datasets>=2.3.0->setfit) (21.3)\n",
      "Requirement already satisfied: multiprocess in c:\\users\\kkiit\\anaconda3\\lib\\site-packages (from datasets>=2.3.0->setfit) (0.70.15)\n",
      "Requirement already satisfied: xxhash in c:\\users\\kkiit\\anaconda3\\lib\\site-packages (from datasets>=2.3.0->setfit) (3.3.0)\n",
      "Requirement already satisfied: fsspec[http]<2023.9.0,>=2023.1.0 in c:\\users\\kkiit\\anaconda3\\lib\\site-packages (from datasets>=2.3.0->setfit) (2023.6.0)\n",
      "Requirement already satisfied: pyarrow>=8.0.0 in c:\\users\\kkiit\\anaconda3\\lib\\site-packages (from datasets>=2.3.0->setfit) (13.0.0)\n",
      "Requirement already satisfied: huggingface-hub<1.0.0,>=0.14.0 in c:\\users\\kkiit\\appdata\\roaming\\python\\python39\\site-packages (from datasets>=2.3.0->setfit) (0.16.4)\n",
      "Collecting responses<0.19\n",
      "  Using cached responses-0.18.0-py3-none-any.whl (38 kB)\n",
      "Requirement already satisfied: torchvision in c:\\users\\kkiit\\anaconda3\\lib\\site-packages (from sentence-transformers>=2.2.1->setfit) (0.15.1)\n",
      "Requirement already satisfied: scikit-learn in c:\\users\\kkiit\\anaconda3\\lib\\site-packages (from sentence-transformers>=2.2.1->setfit) (1.0.2)\n",
      "Requirement already satisfied: torch>=1.6.0 in c:\\users\\kkiit\\anaconda3\\lib\\site-packages (from sentence-transformers>=2.2.1->setfit) (2.0.0)\n",
      "Requirement already satisfied: scipy in c:\\users\\kkiit\\anaconda3\\lib\\site-packages (from sentence-transformers>=2.2.1->setfit) (1.9.1)\n",
      "Requirement already satisfied: sentencepiece in c:\\users\\kkiit\\anaconda3\\lib\\site-packages (from sentence-transformers>=2.2.1->setfit) (0.1.99)\n",
      "Requirement already satisfied: nltk in c:\\users\\kkiit\\anaconda3\\lib\\site-packages (from sentence-transformers>=2.2.1->setfit) (3.7)\n",
      "Requirement already satisfied: transformers<5.0.0,>=4.6.0 in c:\\users\\kkiit\\appdata\\roaming\\python\\python39\\site-packages (from sentence-transformers>=2.2.1->setfit) (4.32.1)\n",
      "Requirement already satisfied: charset-normalizer<4.0,>=2.0 in c:\\users\\kkiit\\anaconda3\\lib\\site-packages (from aiohttp->datasets>=2.3.0->setfit) (2.0.4)\n",
      "Requirement already satisfied: frozenlist>=1.1.1 in c:\\users\\kkiit\\anaconda3\\lib\\site-packages (from aiohttp->datasets>=2.3.0->setfit) (1.4.0)\n",
      "Requirement already satisfied: yarl<2.0,>=1.0 in c:\\users\\kkiit\\anaconda3\\lib\\site-packages (from aiohttp->datasets>=2.3.0->setfit) (1.9.2)\n",
      "Requirement already satisfied: async-timeout<5.0,>=4.0.0a3 in c:\\users\\kkiit\\anaconda3\\lib\\site-packages (from aiohttp->datasets>=2.3.0->setfit) (4.0.3)\n",
      "Requirement already satisfied: attrs>=17.3.0 in c:\\users\\kkiit\\anaconda3\\lib\\site-packages (from aiohttp->datasets>=2.3.0->setfit) (21.4.0)\n",
      "Requirement already satisfied: multidict<7.0,>=4.5 in c:\\users\\kkiit\\anaconda3\\lib\\site-packages (from aiohttp->datasets>=2.3.0->setfit) (6.0.4)\n",
      "Requirement already satisfied: aiosignal>=1.1.2 in c:\\users\\kkiit\\anaconda3\\lib\\site-packages (from aiohttp->datasets>=2.3.0->setfit) (1.3.1)\n",
      "Requirement already satisfied: typing-extensions>=3.7.4.3 in c:\\users\\kkiit\\anaconda3\\lib\\site-packages (from huggingface-hub<1.0.0,>=0.14.0->datasets>=2.3.0->setfit) (4.7.1)\n",
      "Requirement already satisfied: filelock in c:\\users\\kkiit\\anaconda3\\lib\\site-packages (from huggingface-hub<1.0.0,>=0.14.0->datasets>=2.3.0->setfit) (3.6.0)\n",
      "Requirement already satisfied: pyparsing!=3.0.5,>=2.0.2 in c:\\users\\kkiit\\anaconda3\\lib\\site-packages (from packaging->datasets>=2.3.0->setfit) (3.0.9)\n",
      "Requirement already satisfied: urllib3<1.27,>=1.21.1 in c:\\users\\kkiit\\anaconda3\\lib\\site-packages (from requests>=2.19.0->datasets>=2.3.0->setfit) (1.26.11)\n",
      "Requirement already satisfied: idna<4,>=2.5 in c:\\users\\kkiit\\anaconda3\\lib\\site-packages (from requests>=2.19.0->datasets>=2.3.0->setfit) (3.3)\n",
      "Requirement already satisfied: certifi>=2017.4.17 in c:\\users\\kkiit\\anaconda3\\lib\\site-packages (from requests>=2.19.0->datasets>=2.3.0->setfit) (2022.9.14)\n",
      "Requirement already satisfied: networkx in c:\\users\\kkiit\\anaconda3\\lib\\site-packages (from torch>=1.6.0->sentence-transformers>=2.2.1->setfit) (2.8.4)\n",
      "Requirement already satisfied: jinja2 in c:\\users\\kkiit\\anaconda3\\lib\\site-packages (from torch>=1.6.0->sentence-transformers>=2.2.1->setfit) (2.11.3)\n",
      "Requirement already satisfied: sympy in c:\\users\\kkiit\\anaconda3\\lib\\site-packages (from torch>=1.6.0->sentence-transformers>=2.2.1->setfit) (1.10.1)\n",
      "Requirement already satisfied: colorama in c:\\users\\kkiit\\anaconda3\\lib\\site-packages (from tqdm>=4.62.1->datasets>=2.3.0->setfit) (0.4.6)\n",
      "Requirement already satisfied: tokenizers!=0.11.3,<0.14,>=0.11.1 in c:\\users\\kkiit\\anaconda3\\lib\\site-packages (from transformers<5.0.0,>=4.6.0->sentence-transformers>=2.2.1->setfit) (0.13.3)\n",
      "Requirement already satisfied: safetensors>=0.3.1 in c:\\users\\kkiit\\anaconda3\\lib\\site-packages (from transformers<5.0.0,>=4.6.0->sentence-transformers>=2.2.1->setfit) (0.3.3)\n",
      "Requirement already satisfied: regex!=2019.12.17 in c:\\users\\kkiit\\anaconda3\\lib\\site-packages (from transformers<5.0.0,>=4.6.0->sentence-transformers>=2.2.1->setfit) (2022.7.9)\n",
      "Requirement already satisfied: click in c:\\users\\kkiit\\anaconda3\\lib\\site-packages (from nltk->sentence-transformers>=2.2.1->setfit) (8.0.4)\n",
      "Requirement already satisfied: joblib in c:\\users\\kkiit\\anaconda3\\lib\\site-packages (from nltk->sentence-transformers>=2.2.1->setfit) (1.3.2)\n",
      "Requirement already satisfied: tzdata>=2022.1 in c:\\users\\kkiit\\anaconda3\\lib\\site-packages (from pandas->datasets>=2.3.0->setfit) (2023.3)\n",
      "Requirement already satisfied: python-dateutil>=2.8.2 in c:\\users\\kkiit\\anaconda3\\lib\\site-packages (from pandas->datasets>=2.3.0->setfit) (2.8.2)\n",
      "Requirement already satisfied: pytz>=2020.1 in c:\\users\\kkiit\\anaconda3\\lib\\site-packages (from pandas->datasets>=2.3.0->setfit) (2022.1)\n",
      "Requirement already satisfied: threadpoolctl>=2.0.0 in c:\\users\\kkiit\\anaconda3\\lib\\site-packages (from scikit-learn->sentence-transformers>=2.2.1->setfit) (2.2.0)\n",
      "Requirement already satisfied: pillow!=8.3.*,>=5.3.0 in c:\\users\\kkiit\\anaconda3\\lib\\site-packages (from torchvision->sentence-transformers>=2.2.1->setfit) (9.2.0)\n",
      "Requirement already satisfied: six>=1.5 in c:\\users\\kkiit\\anaconda3\\lib\\site-packages (from python-dateutil>=2.8.2->pandas->datasets>=2.3.0->setfit) (1.16.0)\n",
      "Requirement already satisfied: MarkupSafe>=0.23 in c:\\users\\kkiit\\anaconda3\\lib\\site-packages (from jinja2->torch>=1.6.0->sentence-transformers>=2.2.1->setfit) (2.0.1)\n",
      "Requirement already satisfied: mpmath>=0.19 in c:\\users\\kkiit\\anaconda3\\lib\\site-packages (from sympy->torch>=1.6.0->sentence-transformers>=2.2.1->setfit) (1.2.1)\n",
      "Installing collected packages: responses, evaluate, setfit\n",
      "Successfully installed evaluate-0.4.0 responses-0.18.0 setfit-0.7.0\n"
     ]
    }
   ],
   "source": [
    "!pip install setfit"
   ]
  },
  {
   "cell_type": "code",
   "execution_count": 6,
   "id": "7133b5f4-f9a5-414f-9141-0a0a6cb10b3f",
   "metadata": {},
   "outputs": [],
   "source": [
    "from datasets import load_dataset\n",
    "from sentence_transformers.losses import CosineSimilarityLoss\n",
    "\n",
    "from setfit import SetFitModel, SetFitTrainer"
   ]
  },
  {
   "cell_type": "code",
   "execution_count": 7,
   "id": "a7974ffb-f073-4ff7-8cb2-c94ae3a2ac5b",
   "metadata": {},
   "outputs": [
    {
     "data": {
      "application/vnd.jupyter.widget-view+json": {
       "model_id": "e4ed819a36e24dfa92426a9028d653a6",
       "version_major": 2,
       "version_minor": 0
      },
      "text/plain": [
       "Downloading readme:   0%|          | 0.00/447 [00:00<?, ?B/s]"
      ]
     },
     "metadata": {},
     "output_type": "display_data"
    },
    {
     "name": "stderr",
     "output_type": "stream",
     "text": [
      "Repo card metadata block was not found. Setting CardData to empty.\n"
     ]
    },
    {
     "data": {
      "application/vnd.jupyter.widget-view+json": {
       "model_id": "1abc29a51cf34070a0f9fa040dc04475",
       "version_major": 2,
       "version_minor": 0
      },
      "text/plain": [
       "Downloading data files:   0%|          | 0/2 [00:00<?, ?it/s]"
      ]
     },
     "metadata": {},
     "output_type": "display_data"
    },
    {
     "data": {
      "application/vnd.jupyter.widget-view+json": {
       "model_id": "1fdf60c956de480582aa11fcae297439",
       "version_major": 2,
       "version_minor": 0
      },
      "text/plain": [
       "Downloading data:   0%|          | 0.00/427k [00:00<?, ?B/s]"
      ]
     },
     "metadata": {},
     "output_type": "display_data"
    },
    {
     "data": {
      "application/vnd.jupyter.widget-view+json": {
       "model_id": "d479a4e287fb4eeaa198750e7d71a178",
       "version_major": 2,
       "version_minor": 0
      },
      "text/plain": [
       "Downloading data:   0%|          | 0.00/109k [00:00<?, ?B/s]"
      ]
     },
     "metadata": {},
     "output_type": "display_data"
    },
    {
     "data": {
      "application/vnd.jupyter.widget-view+json": {
       "model_id": "605bae0f6a604724a0732d4bca5f6807",
       "version_major": 2,
       "version_minor": 0
      },
      "text/plain": [
       "Extracting data files:   0%|          | 0/2 [00:00<?, ?it/s]"
      ]
     },
     "metadata": {},
     "output_type": "display_data"
    },
    {
     "data": {
      "application/vnd.jupyter.widget-view+json": {
       "model_id": "09637f5f90ab42779bfdacee9cefea00",
       "version_major": 2,
       "version_minor": 0
      },
      "text/plain": [
       "Generating train split: 0 examples [00:00, ? examples/s]"
      ]
     },
     "metadata": {},
     "output_type": "display_data"
    },
    {
     "data": {
      "application/vnd.jupyter.widget-view+json": {
       "model_id": "7ae97efb8f20486b998b84525606f751",
       "version_major": 2,
       "version_minor": 0
      },
      "text/plain": [
       "Generating test split: 0 examples [00:00, ? examples/s]"
      ]
     },
     "metadata": {},
     "output_type": "display_data"
    }
   ],
   "source": [
    "dataset = load_dataset(\"SetFit/SentEval-CR\")"
   ]
  },
  {
   "cell_type": "code",
   "execution_count": 11,
   "id": "6c283b2b-67b0-4265-911e-ac20c8357f78",
   "metadata": {},
   "outputs": [],
   "source": [
    "# Select N examples per class (8 in this case)\n",
    "train_ds = dataset[\"train\"].shuffle(seed=42).select(range(8 * 2))\n",
    "test_ds = dataset[\"test\"]"
   ]
  },
  {
   "cell_type": "code",
   "execution_count": 12,
   "id": "e2c98eec-380f-491b-b0d9-570c20342b91",
   "metadata": {},
   "outputs": [
    {
     "data": {
      "application/vnd.jupyter.widget-view+json": {
       "model_id": "ce53808ac7b747db95392a64d77ff4fe",
       "version_major": 2,
       "version_minor": 0
      },
      "text/plain": [
       "Downloading (…)lve/main/config.json:   0%|          | 0.00/594 [00:00<?, ?B/s]"
      ]
     },
     "metadata": {},
     "output_type": "display_data"
    },
    {
     "name": "stderr",
     "output_type": "stream",
     "text": [
      "C:\\Users\\kkiit\\AppData\\Roaming\\Python\\Python39\\site-packages\\huggingface_hub\\file_download.py:133: UserWarning: `huggingface_hub` cache-system uses symlinks by default to efficiently store duplicated files but your machine does not support them in C:\\Users\\kkiit\\.cache\\huggingface\\hub. Caching files will still work but in a degraded version that might require more space on your disk. This warning can be disabled by setting the `HF_HUB_DISABLE_SYMLINKS_WARNING` environment variable. For more details, see https://huggingface.co/docs/huggingface_hub/how-to-cache#limitations.\n",
      "To support symlinks on Windows, you either need to activate Developer Mode or to run Python as an administrator. In order to see activate developer mode, see this article: https://docs.microsoft.com/en-us/windows/apps/get-started/enable-your-device-for-development\n",
      "  warnings.warn(message)\n"
     ]
    },
    {
     "data": {
      "application/vnd.jupyter.widget-view+json": {
       "model_id": "9866c0fdf0e543d0bb4972b755af76b2",
       "version_major": 2,
       "version_minor": 0
      },
      "text/plain": [
       "Downloading (…)f39ef/.gitattributes:   0%|          | 0.00/690 [00:00<?, ?B/s]"
      ]
     },
     "metadata": {},
     "output_type": "display_data"
    },
    {
     "data": {
      "application/vnd.jupyter.widget-view+json": {
       "model_id": "cdae08cee6354623866abe254f7e6872",
       "version_major": 2,
       "version_minor": 0
      },
      "text/plain": [
       "Downloading (…)_Pooling/config.json:   0%|          | 0.00/190 [00:00<?, ?B/s]"
      ]
     },
     "metadata": {},
     "output_type": "display_data"
    },
    {
     "data": {
      "application/vnd.jupyter.widget-view+json": {
       "model_id": "7b66cbdd820f4eaab549b1d8090f742d",
       "version_major": 2,
       "version_minor": 0
      },
      "text/plain": [
       "Downloading (…)0182ff39ef/README.md:   0%|          | 0.00/3.70k [00:00<?, ?B/s]"
      ]
     },
     "metadata": {},
     "output_type": "display_data"
    },
    {
     "data": {
      "application/vnd.jupyter.widget-view+json": {
       "model_id": "45eb3eb56371415b880e740d4a5472c2",
       "version_major": 2,
       "version_minor": 0
      },
      "text/plain": [
       "Downloading (…)82ff39ef/config.json:   0%|          | 0.00/594 [00:00<?, ?B/s]"
      ]
     },
     "metadata": {},
     "output_type": "display_data"
    },
    {
     "data": {
      "application/vnd.jupyter.widget-view+json": {
       "model_id": "bddf7ac70085455a9f67c4e038abe4c4",
       "version_major": 2,
       "version_minor": 0
      },
      "text/plain": [
       "Downloading (…)ce_transformers.json:   0%|          | 0.00/122 [00:00<?, ?B/s]"
      ]
     },
     "metadata": {},
     "output_type": "display_data"
    },
    {
     "data": {
      "application/vnd.jupyter.widget-view+json": {
       "model_id": "8a47cf8492934adabd4427088b227eb5",
       "version_major": 2,
       "version_minor": 0
      },
      "text/plain": [
       "Downloading pytorch_model.bin:   0%|          | 0.00/438M [00:00<?, ?B/s]"
      ]
     },
     "metadata": {},
     "output_type": "display_data"
    },
    {
     "data": {
      "application/vnd.jupyter.widget-view+json": {
       "model_id": "ed2e8dfc29ca42ab84b6c660a8ee4e8c",
       "version_major": 2,
       "version_minor": 0
      },
      "text/plain": [
       "Downloading (…)nce_bert_config.json:   0%|          | 0.00/53.0 [00:00<?, ?B/s]"
      ]
     },
     "metadata": {},
     "output_type": "display_data"
    },
    {
     "data": {
      "application/vnd.jupyter.widget-view+json": {
       "model_id": "cb10ae7a09c44033898b904a77d7c113",
       "version_major": 2,
       "version_minor": 0
      },
      "text/plain": [
       "Downloading (…)cial_tokens_map.json:   0%|          | 0.00/239 [00:00<?, ?B/s]"
      ]
     },
     "metadata": {},
     "output_type": "display_data"
    },
    {
     "data": {
      "application/vnd.jupyter.widget-view+json": {
       "model_id": "c0afaca3caba4548a401ed04a608c408",
       "version_major": 2,
       "version_minor": 0
      },
      "text/plain": [
       "Downloading (…)f39ef/tokenizer.json:   0%|          | 0.00/466k [00:00<?, ?B/s]"
      ]
     },
     "metadata": {},
     "output_type": "display_data"
    },
    {
     "data": {
      "application/vnd.jupyter.widget-view+json": {
       "model_id": "dd72858108e240a48db1361712c5bc32",
       "version_major": 2,
       "version_minor": 0
      },
      "text/plain": [
       "Downloading (…)okenizer_config.json:   0%|          | 0.00/1.19k [00:00<?, ?B/s]"
      ]
     },
     "metadata": {},
     "output_type": "display_data"
    },
    {
     "data": {
      "application/vnd.jupyter.widget-view+json": {
       "model_id": "d6a9c55d0c334a9591bd328f0301977a",
       "version_major": 2,
       "version_minor": 0
      },
      "text/plain": [
       "Downloading (…)0182ff39ef/vocab.txt:   0%|          | 0.00/232k [00:00<?, ?B/s]"
      ]
     },
     "metadata": {},
     "output_type": "display_data"
    },
    {
     "data": {
      "application/vnd.jupyter.widget-view+json": {
       "model_id": "7b75a5f7d845441aad23003eef459d4d",
       "version_major": 2,
       "version_minor": 0
      },
      "text/plain": [
       "Downloading (…)2ff39ef/modules.json:   0%|          | 0.00/229 [00:00<?, ?B/s]"
      ]
     },
     "metadata": {},
     "output_type": "display_data"
    },
    {
     "name": "stderr",
     "output_type": "stream",
     "text": [
      "model_head.pkl not found on HuggingFace Hub, initialising classification head with random weights. You should TRAIN this model on a downstream task to use it for predictions and inference.\n"
     ]
    }
   ],
   "source": [
    "# Load SetFit model from Hub\n",
    "model = SetFitModel.from_pretrained(\"sentence-transformers/paraphrase-mpnet-base-v2\")\n",
    "\n",
    "# Create trainer\n",
    "trainer = SetFitTrainer(\n",
    "    model=model,\n",
    "    train_dataset=train_ds,\n",
    "    eval_dataset=test_ds,\n",
    "    loss_class=CosineSimilarityLoss,\n",
    "    batch_size=16,\n",
    "    num_iterations=20, # Number of text pairs to generate for contrastive learning\n",
    "    num_epochs=1 # Number of epochs to use for contrastive learning\n",
    ")"
   ]
  },
  {
   "cell_type": "code",
   "execution_count": 13,
   "id": "0bac54b2-072e-4c30-9fd8-07c368877943",
   "metadata": {},
   "outputs": [
    {
     "data": {
      "application/vnd.jupyter.widget-view+json": {
       "model_id": "4a11733870d84a9dbbe43dc657ade125",
       "version_major": 2,
       "version_minor": 0
      },
      "text/plain": [
       "Generating Training Pairs:   0%|          | 0/20 [00:00<?, ?it/s]"
      ]
     },
     "metadata": {},
     "output_type": "display_data"
    },
    {
     "name": "stderr",
     "output_type": "stream",
     "text": [
      "***** Running training *****\n",
      "  Num examples = 640\n",
      "  Num epochs = 1\n",
      "  Total optimization steps = 40\n",
      "  Total train batch size = 16\n"
     ]
    },
    {
     "data": {
      "application/vnd.jupyter.widget-view+json": {
       "model_id": "21d38fb877264396a0f4616a63ddb7de",
       "version_major": 2,
       "version_minor": 0
      },
      "text/plain": [
       "Epoch:   0%|          | 0/1 [00:00<?, ?it/s]"
      ]
     },
     "metadata": {},
     "output_type": "display_data"
    },
    {
     "data": {
      "application/vnd.jupyter.widget-view+json": {
       "model_id": "5bcf236d96594dd2aa04d2d0d9c0d7ff",
       "version_major": 2,
       "version_minor": 0
      },
      "text/plain": [
       "Iteration:   0%|          | 0/40 [00:00<?, ?it/s]"
      ]
     },
     "metadata": {},
     "output_type": "display_data"
    },
    {
     "name": "stderr",
     "output_type": "stream",
     "text": [
      "***** Running evaluation *****\n"
     ]
    },
    {
     "data": {
      "application/vnd.jupyter.widget-view+json": {
       "model_id": "f5d7e5dc31fb40378fb8a8784d91c7b8",
       "version_major": 2,
       "version_minor": 0
      },
      "text/plain": [
       "Downloading builder script:   0%|          | 0.00/4.20k [00:00<?, ?B/s]"
      ]
     },
     "metadata": {},
     "output_type": "display_data"
    }
   ],
   "source": [
    "trainer.train()\n",
    "metrics = trainer.evaluate()"
   ]
  },
  {
   "cell_type": "markdown",
   "id": "c53d034b-e0e2-4fcd-b597-2cbe78ca8cc0",
   "metadata": {},
   "source": [
    "## References"
   ]
  },
  {
   "cell_type": "markdown",
   "id": "1d1eba57-50a4-4a44-a106-3621618d3653",
   "metadata": {},
   "source": [
    "1) https://huggingface.co/blog/setfit\n",
    "2) https://arxiv.org/abs/2209.11055"
   ]
  },
  {
   "cell_type": "code",
   "execution_count": null,
   "id": "8019b388-d377-484c-b147-662d17dca586",
   "metadata": {},
   "outputs": [],
   "source": []
  }
 ],
 "metadata": {
  "kernelspec": {
   "display_name": "Python 3 (ipykernel)",
   "language": "python",
   "name": "python3"
  },
  "language_info": {
   "codemirror_mode": {
    "name": "ipython",
    "version": 3
   },
   "file_extension": ".py",
   "mimetype": "text/x-python",
   "name": "python",
   "nbconvert_exporter": "python",
   "pygments_lexer": "ipython3",
   "version": "3.9.13"
  }
 },
 "nbformat": 4,
 "nbformat_minor": 5
}
