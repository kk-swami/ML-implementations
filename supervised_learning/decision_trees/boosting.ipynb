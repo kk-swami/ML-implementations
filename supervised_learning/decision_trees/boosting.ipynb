{
 "cells": [
  {
   "cell_type": "markdown",
   "id": "afde7afb-2f22-42f5-b49e-8a312cf98dc1",
   "metadata": {},
   "source": [
    "# Boosting"
   ]
  },
  {
   "cell_type": "markdown",
   "id": "6a55ac72-da81-4999-bd79-83eda9010356",
   "metadata": {},
   "source": [
    "## Introduction to Boosting"
   ]
  },
  {
   "cell_type": "markdown",
   "id": "10d4911e-9159-4f2e-9146-a15a4884782e",
   "metadata": {},
   "source": [
    "Boosting algorithms typically work on top of decision trees. The 3 most common boosting algorithmsa are adaptive boosting, gradient boosting and xgboost (a variant of gradient boosting)\n",
    "\n",
    "Boosting is an ensemble model which uses a combination of weak learners (typically decision tree stumps) to build a final model"
   ]
  },
  {
   "cell_type": "markdown",
   "id": "63798de1-3977-491a-b9b6-6ef8151165f8",
   "metadata": {},
   "source": [
    "### Hold on . How is boosting different from bagging ?"
   ]
  },
  {
   "cell_type": "markdown",
   "id": "676ec793-6054-41c6-ae26-ea2444e1fd74",
   "metadata": {},
   "source": [
    "Boosting and bagging are the two major classes of ensemble methods, which both use many weak learners, typically decision trees, the basic philosophy being that a combination of weak learners is better than a single strong learner\n",
    "\n",
    "Bagging is used when the goal is to reduce the variance/overfitting of the classifier. In Random Forest, a popular bagging method, we take several random subsets of data, and with each subset train a decision tree with again a subset of features selected randomly. This double randomness (data and features) helps reduce overfitting. Note that a single decision tree is typically overfit (a high variance model, allowed to grow to a large depth), and the ensembling averages out this overfitting\n",
    "\n",
    "In Boosting, learners are learned sequentially with early learners fitting simple models to the data, and then errors analyzed. Consecutive trees are fit at every step, taking into account in some way the errors/residuals from the previous step. (For example in step 2, increasing the weight of a misclassified example in step 1 , so that you correct for it)\n",
    "\n"
   ]
  },
  {
   "cell_type": "markdown",
   "id": "ef0235ca-5c65-43bd-bf44-d19bc59ac73e",
   "metadata": {},
   "source": [
    "1) In Bagging, each tree is a high variance model (overfits). Ensembling reduces this variance. In boosting, each tree is typically a high bias model (underfits). Ensembling reduces this bias\n",
    "2) Bagging is a parallel process. Since data is sampled randomly with replacements, N such data samples can be taken parallely and trained, and each model is independent of the others\n",
    "Boosting is a sequential process. The tree at the second step depends on the model at the first step.\n"
   ]
  },
  {
   "cell_type": "markdown",
   "id": "36996660-c158-4cf4-bcab-4df62046c870",
   "metadata": {},
   "source": [
    "## Comparison of boosting techniques"
   ]
  },
  {
   "cell_type": "markdown",
   "id": "b7c635bc-9f17-41c4-b8b5-a0a4778cbbac",
   "metadata": {},
   "source": [
    "## Adaboost"
   ]
  },
  {
   "cell_type": "markdown",
   "id": "d8a8efdc-e8ac-4e31-b3ef-5d606f3a3da3",
   "metadata": {},
   "source": [
    "\n",
    "\n",
    "In adaboost, at every iteration, up-weighting observations which have a greater error. In addition,each classifier has different weights assigned to it based on the classifier’s performance (more weight is assigned to the classifier when accuracy is more and vice-verse)\n",
    "\n",
    "Each classifier is typically a simple stump (highly underfit model)\n",
    "\n",
    "Mathematically\n",
    "\n",
    "For any classifier i, \n",
    "\n",
    "![error](boosting_pic_1.PNG \"error rate\")\n",
    "\n",
    "Note that average error ei of classifier i is 1 if none of the model outputs match the GT, and 0 if all model outputs match the GT\n",
    "\n",
    "The importance of a given classifier in final output is given by\n",
    "\n",
    "![importance](boosting_pic_2.PNG \"error rate\")\n",
    "\n",
    "alphai is 0 when the classifier classifies half the points correctly and half incorrectly\n",
    "\n",
    "![alpha_plot](boosting_pic_3.PNG \"plot\")\n",
    "\n",
    "Look above for the plot of alpha with epsilon\n",
    "\n"
   ]
  },
  {
   "attachments": {
    "bbf760b9-e989-491f-b799-9dce00b0fd46.png": {
     "image/png": "[encoded data removed]"
    }
   },
   "cell_type": "markdown",
   "id": "5212a235-610b-4960-ba1c-c54c2d285f93",
   "metadata": {},
   "source": [
    "In addition, the weights of every sample point is also changed, incorrect samples are given weights\n",
    "\n",
    "The equation for that is\n",
    "\n",
    "![image.png](attachment:bbf760b9-e989-491f-b799-9dce00b0fd46.png)\n",
    "\n"
   ]
  },
  {
   "cell_type": "markdown",
   "id": "2975dded-8647-4df6-9c80-85cffb837ba3",
   "metadata": {},
   "source": [
    "Note that for point j, if prediction under classifier i Ci(xj) = yj, then the weight is reduced in next iteration\n",
    "\n",
    "Whereas if prediction is incorrect under classifier i, the weight is increased under next iteration\n",
    "\n",
    "Zj is the normalization factor to ensure all weights sum to 1\n",
    "\n",
    "The final prediction of each observation is made by aggregating the weighted average of the prediction made by each classifier. AdaBoost might result in overfitting. Hence, no. of trees should be checked and restricted.\n"
   ]
  },
  {
   "cell_type": "markdown",
   "id": "2f6f74ca-731a-435a-8cfd-52fb6eb84133",
   "metadata": {},
   "source": [
    "### Advantages and disadvantages of adaboost"
   ]
  },
  {
   "cell_type": "markdown",
   "id": "f80847c5-4552-4892-8f5e-21b202b58643",
   "metadata": {},
   "source": [
    "Adv\n",
    "\n",
    "1) Lesser number of hyperparameters, easier to tweak\n",
    "2) Less prone to overfitting if stumps are chosen\n",
    "3) Initially built for binary classification but now can be used for text/image classification also\n",
    "\n",
    "Disadv\n",
    "\n",
    "1) Very sensitive to noisy data and outliers\n",
    "2) Slower than Xgboost\n"
   ]
  },
  {
   "cell_type": "markdown",
   "id": "5a61bcab-e117-450b-bc67-a3379da5520a",
   "metadata": {},
   "source": [
    "## References"
   ]
  },
  {
   "cell_type": "markdown",
   "id": "a8c42735-9f7b-451f-bfa9-3665d898e67f",
   "metadata": {},
   "source": [
    "1) https://analyticsindiamag.com/a-hands-on-guide-to-hybrid-ensemble-learning-models-with-python-code/\n",
    "2) https://analyticsindiamag.com/primer-ensemble-learning-bagging-boosting/\n",
    "3) https://www.kaggle.com/code/prashant111/bagging-vs-boosting/notebook\n",
    "4) https://analyticsindiamag.com/adaboost-vs-gradient-boosting-a-comparison-of-leading-boosting-algorithms/#:~:text=AdaBoost%20is%20the%20first%20designed,Boosting%20more%20flexible%20than%20AdaBoost.\n",
    "5) https://www.analyticsvidhya.com/blog/2020/10/adaboost-and-gradient-boost-comparitive-study-between-2-popular-ensemble-model-techniques/\n",
    "6) https://blog.paperspace.com/adaboost-optimizer/#:~:text=AdaBoost%20is%20an%20ensemble%20learning,turn%20them%20into%20strong%20ones.\n",
    "7) https://datascience.stackexchange.com/questions/39193/adaboost-vs-gradient-boosting"
   ]
  },
  {
   "cell_type": "code",
   "execution_count": null,
   "id": "0e849cba-730a-45ed-90b7-585ae5c6d3e0",
   "metadata": {},
   "outputs": [],
   "source": []
  }
 ],
 "metadata": {
  "kernelspec": {
   "display_name": "Python 3",
   "language": "python",
   "name": "python3"
  },
  "language_info": {
   "name": ""
  }
 },
 "nbformat": 4,
 "nbformat_minor": 5
}
