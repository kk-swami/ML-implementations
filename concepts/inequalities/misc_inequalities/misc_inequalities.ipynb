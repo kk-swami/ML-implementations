{
 "cells": [
  {
   "cell_type": "markdown",
   "metadata": {},
   "source": [
    "## IT inequality"
   ]
  },
  {
   "cell_type": "markdown",
   "metadata": {},
   "source": [
    "For a positive real number r,\n",
    "\n",
    "$log(r) <= (r-1)*log(e)$"
   ]
  },
  {
   "cell_type": "markdown",
   "metadata": {},
   "source": [
    "equality when r = 1"
   ]
  },
  {
   "cell_type": "markdown",
   "metadata": {},
   "source": [
    "## Proof"
   ]
  },
  {
   "cell_type": "markdown",
   "metadata": {},
   "source": [
    "Graphs of ln(r) and r-1 coincide at r=1\n",
    "\n",
    "\n",
    "but the slope of the ln(r) function $\\frac{d(ln(r))}{dr} = \\frac{1}{r}$\n",
    "\n",
    "is less than 1 if r>1, >1 if r<1\n",
    "\n",
    "so then can never meet the r-1 line in either r<1 or r>1\n",
    "\n",
    "therefore, ln(r) <= r-1 for all r>0\n",
    "\n",
    "Multipling both sites by log(e),\n",
    "\n",
    "log(r) <= (r-1)log(e)\n",
    "\n",
    "for any base \n",
    "\n",
    "\n"
   ]
  },
  {
   "cell_type": "code",
   "execution_count": null,
   "metadata": {},
   "outputs": [],
   "source": []
  }
 ],
 "metadata": {
  "kernelspec": {
   "display_name": "Python 3",
   "language": "python",
   "name": "python3"
  },
  "language_info": {
   "codemirror_mode": {
    "name": "ipython",
    "version": 3
   },
   "file_extension": ".py",
   "mimetype": "text/x-python",
   "name": "python",
   "nbconvert_exporter": "python",
   "pygments_lexer": "ipython3",
   "version": "3.6.4"
  }
 },
 "nbformat": 4,
 "nbformat_minor": 2
}
