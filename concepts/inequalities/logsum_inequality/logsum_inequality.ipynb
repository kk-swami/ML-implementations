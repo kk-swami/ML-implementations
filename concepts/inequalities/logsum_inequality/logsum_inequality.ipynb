{
 "cells": [
  {
   "cell_type": "markdown",
   "metadata": {},
   "source": [
    "# Log Sum Inequality"
   ]
  },
  {
   "cell_type": "markdown",
   "metadata": {},
   "source": [
    "For non negative numbers a1.. an and b1..bn, \n",
    "\n",
    "$\\sum_{i=1:n}(ai*log (\\frac{ai}{bi}))$ >= $(\\sum_{i=1:n}(ai))*log(\\frac{\\sum_{i=1:n}(ai)}{\\sum_{i=1:n}(bi)})$"
   ]
  },
  {
   "cell_type": "markdown",
   "metadata": {},
   "source": [
    "Equality happens when ai/bi is a constant"
   ]
  },
  {
   "cell_type": "markdown",
   "metadata": {},
   "source": [
    "# Proof"
   ]
  },
  {
   "cell_type": "markdown",
   "metadata": {},
   "source": [
    "Let f be the function xlogx which is a convex function. From Jensen's inequality, we know that for convex function\n",
    "\n",
    "$\\sum_{i}(\\alpha_{i})f(t_{i})$ >= $f(\\sum_{i}(\\alpha_{i}t_{i}))$ \n",
    "\n",
    "for points t1.. tn in a certain domain T\n",
    "\n",
    "if $\\sum_{i}(\\alpha_{i})$ = 1, and $\\alpha_{i}$ >= 0 for all i"
   ]
  },
  {
   "cell_type": "markdown",
   "metadata": {},
   "source": [
    "Set $t_{i} = \\frac{a_{i}}{b_{i}}$, and $\\alpha_{j} = \\frac{b_{j}}{\\sum_{j}(b_{j})}$"
   ]
  },
  {
   "cell_type": "markdown",
   "metadata": {},
   "source": [
    "Therefore\n",
    "\n",
    "LHS expands to $\\sum_{i}(\\frac{b_{i}}{\\sum_{b_{i}}})(\\frac{a_{i}}{b_{i}}*log(\\frac{a_{i}}{b_{i}})$\n",
    "\n",
    "which is just k*$\\sum_{i}a_{i}log(\\frac{a_{i}}{b_{i}})$\n",
    "\n",
    "where k = $\\sum_i{b_{i}}$"
   ]
  },
  {
   "cell_type": "markdown",
   "metadata": {},
   "source": [
    "RHS expands to $(\\sum_{i}(\\alpha_{i}t_{i})) * log(\\sum_{i}(\\alpha_{i}t_{i}))$"
   ]
  },
  {
   "cell_type": "markdown",
   "metadata": {},
   "source": [
    "which equals  $(\\sum_{i}(\\frac{b_{i}}{\\sum_i{b_{i}}}*\\frac{a_{i}}{b_{i}})) * log((\\sum_{i}(\\frac{b_{i}}{\\sum_i{b_{i}}}*\\frac{a_{i}}{b_{i}}))$"
   ]
  },
  {
   "cell_type": "markdown",
   "metadata": {},
   "source": [
    "which equals k*$\\sum_{i}(a_{i})$* $log(\\frac{\\sum_i(a_{i})}{\\sum_{i}(b_{i})})$"
   ]
  },
  {
   "cell_type": "markdown",
   "metadata": {},
   "source": [
    "Hence proved"
   ]
  },
  {
   "cell_type": "markdown",
   "metadata": {},
   "source": [
    "## Uses"
   ]
  },
  {
   "cell_type": "markdown",
   "metadata": {},
   "source": [
    "1) In proofs regarding entropy"
   ]
  }
 ],
 "metadata": {
  "kernelspec": {
   "display_name": "Python 3",
   "language": "python",
   "name": "python3"
  },
  "language_info": {
   "codemirror_mode": {
    "name": "ipython",
    "version": 3
   },
   "file_extension": ".py",
   "mimetype": "text/x-python",
   "name": "python",
   "nbconvert_exporter": "python",
   "pygments_lexer": "ipython3",
   "version": "3.6.4"
  }
 },
 "nbformat": 4,
 "nbformat_minor": 2
}
