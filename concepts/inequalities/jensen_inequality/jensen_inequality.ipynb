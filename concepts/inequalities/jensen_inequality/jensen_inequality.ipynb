{
 "cells": [
  {
   "cell_type": "markdown",
   "metadata": {},
   "source": [
    "# Jensen's inequality"
   ]
  },
  {
   "cell_type": "markdown",
   "metadata": {},
   "source": [
    "Used as definition for convex/concave functions. Convex functions satisfy jensen's inequality, and conversely, any function which satisfies Jensen's inequality is a convex function. \n",
    "\n",
    "As a converse, concave functions satisfy the reverse of jensen's inequality"
   ]
  },
  {
   "cell_type": "markdown",
   "metadata": {},
   "source": [
    "jensen's inequality has a classical form , using functions of numbers, and a more general probabilistic form defined for functions of random variables"
   ]
  },
  {
   "cell_type": "markdown",
   "metadata": {},
   "source": [
    "## Classical form of Jensen's inequality"
   ]
  },
  {
   "cell_type": "markdown",
   "metadata": {},
   "source": [
    "If f is a convex function, with numbers xi(x1...xn) in its domain, and positive weights ai(a1..an),\n",
    "\n",
    "Then\n",
    "\n",
    "\n",
    "\n",
    "$f(\\frac{\\sum_{i}{ai*xi}}{\\sum_{i}{ai}})$ <= $\\frac{\\sum_{i}{ai*f(xi)}}{\\sum_{i}{ai}}$\n",
    "\n",
    "\n",
    "If f is concave, the converse holds true : \n",
    "\n",
    "$f(\\frac{\\sum_{i}{ai*xi}}{\\sum_{i}{ai}})$ >= $\\frac{\\sum_{i}{ai*f(xi)}}{\\sum_{i}{ai}}$\n"
   ]
  },
  {
   "cell_type": "markdown",
   "metadata": {},
   "source": [
    "Specifically, if n = 2 (ie if we just have two points x1 and x2),\n",
    "then defining lambda1 = a fraction (a1/(a1+a2) in equation above) and lambda2 = 1-lambda1 (a2/a1+a2) :\n",
    "\n",
    "\n",
    "If f is convex\n",
    "\n",
    "$f(lambda1*x1 +  lambda2*x2)$  <= $lambda1*f(x1) + lambda2*f(x2)$\n"
   ]
  },
  {
   "cell_type": "markdown",
   "metadata": {},
   "source": [
    "### Geometric interpretation of the two point case"
   ]
  },
  {
   "cell_type": "markdown",
   "metadata": {},
   "source": [
    "For a convex function, the secant line (line connecting two points) lies above the graph of the function"
   ]
  },
  {
   "cell_type": "markdown",
   "metadata": {},
   "source": [
    "![fig1](jensen_geometric.png \"wiki jensen's inequality\") "
   ]
  },
  {
   "cell_type": "markdown",
   "metadata": {},
   "source": [
    "Image Credit - From wikipedia page on Jensen's inequality"
   ]
  },
  {
   "cell_type": "markdown",
   "metadata": {},
   "source": [
    "## Probabilistic form of Jensen's inequality"
   ]
  },
  {
   "cell_type": "markdown",
   "metadata": {},
   "source": [
    "If X is a random variable, and f is a convex function, then\n",
    "\n",
    "f(E(X)) <= E(f(X))"
   ]
  },
  {
   "cell_type": "markdown",
   "metadata": {},
   "source": [
    "Proof : \n",
    "\n",
    "Pick a point x from RV X on a convex function f \n",
    "\n",
    "We can always define a tangent line a+bx at X=x to the function f\n",
    "\n",
    "Since the line is a tangent, for a convex function , it is geometrically true that curve above tangent\n",
    "\n",
    "ie f(x) >= a + bx\n",
    "\n",
    "This is true for every x in X, which means it is true for all of X\n",
    "\n",
    "Therefore, f(X) >= a+BX\n",
    "\n",
    "Take Expectation on both sides\n",
    "\n",
    "Since Expectation is a linear operator, it preserves inequality\n",
    "\n",
    "Therefore, E(f(X)) >= E(a+BX)\n",
    "\n",
    "Specifically, at the point where tangent is drawn, say mu, f(mu) = a + b*mu\n",
    "\n",
    "Therefore, E(f(X)) >= f(E(X))\n",
    "\n",
    "Hence proved"
   ]
  },
  {
   "cell_type": "markdown",
   "metadata": {},
   "source": [
    "## Examples"
   ]
  },
  {
   "cell_type": "markdown",
   "metadata": {},
   "source": [
    "1) $X^{2}$ is a convex function (a purely quadratic function.\n",
    "\n",
    "Therefore , $E(X^{2}) >= (E(X))^{2}$ by Jensen's inequality\n",
    "\n",
    "But $E(X^{2}) -  (E(X))^{2}$  is nothing but Var(X) which we know is always >= 0"
   ]
  },
  {
   "cell_type": "markdown",
   "metadata": {},
   "source": [
    "## Uses"
   ]
  },
  {
   "cell_type": "markdown",
   "metadata": {},
   "source": [
    "1) In EM algorithm proof\n",
    "2) In lots of proof entropy and conditional entropy. For example, proof that relative entropy >= 0, or H(Y|X) <= H(Y)"
   ]
  },
  {
   "cell_type": "markdown",
   "metadata": {},
   "source": [
    "## References"
   ]
  },
  {
   "cell_type": "markdown",
   "metadata": {},
   "source": [
    "1) https://en.wikipedia.org/wiki/Jensen%27s_inequality"
   ]
  },
  {
   "cell_type": "code",
   "execution_count": null,
   "metadata": {},
   "outputs": [],
   "source": []
  }
 ],
 "metadata": {
  "kernelspec": {
   "display_name": "Python 3",
   "language": "python",
   "name": "python3"
  },
  "language_info": {
   "codemirror_mode": {
    "name": "ipython",
    "version": 3
   },
   "file_extension": ".py",
   "mimetype": "text/x-python",
   "name": "python",
   "nbconvert_exporter": "python",
   "pygments_lexer": "ipython3",
   "version": "3.6.4"
  }
 },
 "nbformat": 4,
 "nbformat_minor": 2
}
